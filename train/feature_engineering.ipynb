{
 "cells": [
  {
   "cell_type": "markdown",
   "id": "6d57868f-eaf7-44e5-8dd6-16962a382823",
   "metadata": {},
   "source": [
    "# Wide-and-Deep ML: Feature Engineering"
   ]
  },
  {
   "cell_type": "markdown",
   "id": "f11f94fa-6457-4d58-bd70-1c2e0acf184c",
   "metadata": {},
   "source": [
    "In this notebook, we will engineer the features we will use to build the wide-and-deep collaborative filter recommender."
   ]
  },
  {
   "cell_type": "markdown",
   "id": "473bda8b-8632-407e-9a1f-6365373dff8f",
   "metadata": {},
   "source": [
    "## 1. Feature...something, I'm tired"
   ]
  },
  {
   "cell_type": "markdown",
   "id": "0d358e5b-9eb0-4a91-9d39-4b44d1281b72",
   "metadata": {},
   "source": [
    "- one-hot encoding time won't work since this was time of rating. (I'm so fucking done with this!)\n",
    "- movie id is unique, so popped off."
   ]
  },
  {
   "cell_type": "code",
   "execution_count": 1,
   "id": "2cf98310-0dbb-4948-bfed-70556c529bde",
   "metadata": {},
   "outputs": [],
   "source": [
    "# import modules\n",
    "\n",
    "import numpy as np\n",
    "import pandas as pd\n",
    "\n",
    "from sklearn.model_selection import train_test_split"
   ]
  },
  {
   "cell_type": "code",
   "execution_count": 26,
   "id": "b45e00a8-5803-4e20-ab54-2b471c61c2a2",
   "metadata": {},
   "outputs": [
    {
     "data": {
      "text/html": [
       "<div>\n",
       "<style scoped>\n",
       "    .dataframe tbody tr th:only-of-type {\n",
       "        vertical-align: middle;\n",
       "    }\n",
       "\n",
       "    .dataframe tbody tr th {\n",
       "        vertical-align: top;\n",
       "    }\n",
       "\n",
       "    .dataframe thead th {\n",
       "        text-align: right;\n",
       "    }\n",
       "</style>\n",
       "<table border=\"1\" class=\"dataframe\">\n",
       "  <thead>\n",
       "    <tr style=\"text-align: right;\">\n",
       "      <th></th>\n",
       "      <th>Unnamed: 0</th>\n",
       "      <th>userId</th>\n",
       "      <th>movieId</th>\n",
       "      <th>rating</th>\n",
       "      <th>timestamp</th>\n",
       "      <th>title</th>\n",
       "      <th>genres</th>\n",
       "    </tr>\n",
       "  </thead>\n",
       "  <tbody>\n",
       "    <tr>\n",
       "      <th>0</th>\n",
       "      <td>0</td>\n",
       "      <td>1</td>\n",
       "      <td>2</td>\n",
       "      <td>3.5</td>\n",
       "      <td>2005-04-02 23:53:47</td>\n",
       "      <td>Jumanji (1995)</td>\n",
       "      <td>Adventure|Children|Fantasy</td>\n",
       "    </tr>\n",
       "    <tr>\n",
       "      <th>1</th>\n",
       "      <td>1</td>\n",
       "      <td>5</td>\n",
       "      <td>2</td>\n",
       "      <td>3.0</td>\n",
       "      <td>1996-12-25 15:26:09</td>\n",
       "      <td>Jumanji (1995)</td>\n",
       "      <td>Adventure|Children|Fantasy</td>\n",
       "    </tr>\n",
       "    <tr>\n",
       "      <th>2</th>\n",
       "      <td>2</td>\n",
       "      <td>13</td>\n",
       "      <td>2</td>\n",
       "      <td>3.0</td>\n",
       "      <td>1996-11-27 08:19:02</td>\n",
       "      <td>Jumanji (1995)</td>\n",
       "      <td>Adventure|Children|Fantasy</td>\n",
       "    </tr>\n",
       "    <tr>\n",
       "      <th>3</th>\n",
       "      <td>3</td>\n",
       "      <td>29</td>\n",
       "      <td>2</td>\n",
       "      <td>3.0</td>\n",
       "      <td>1996-06-23 20:36:14</td>\n",
       "      <td>Jumanji (1995)</td>\n",
       "      <td>Adventure|Children|Fantasy</td>\n",
       "    </tr>\n",
       "    <tr>\n",
       "      <th>4</th>\n",
       "      <td>4</td>\n",
       "      <td>34</td>\n",
       "      <td>2</td>\n",
       "      <td>3.0</td>\n",
       "      <td>1996-10-28 13:29:44</td>\n",
       "      <td>Jumanji (1995)</td>\n",
       "      <td>Adventure|Children|Fantasy</td>\n",
       "    </tr>\n",
       "  </tbody>\n",
       "</table>\n",
       "</div>"
      ],
      "text/plain": [
       "   Unnamed: 0  userId  movieId  rating            timestamp           title  \\\n",
       "0           0       1        2     3.5  2005-04-02 23:53:47  Jumanji (1995)   \n",
       "1           1       5        2     3.0  1996-12-25 15:26:09  Jumanji (1995)   \n",
       "2           2      13        2     3.0  1996-11-27 08:19:02  Jumanji (1995)   \n",
       "3           3      29        2     3.0  1996-06-23 20:36:14  Jumanji (1995)   \n",
       "4           4      34        2     3.0  1996-10-28 13:29:44  Jumanji (1995)   \n",
       "\n",
       "                       genres  \n",
       "0  Adventure|Children|Fantasy  \n",
       "1  Adventure|Children|Fantasy  \n",
       "2  Adventure|Children|Fantasy  \n",
       "3  Adventure|Children|Fantasy  \n",
       "4  Adventure|Children|Fantasy  "
      ]
     },
     "execution_count": 26,
     "metadata": {},
     "output_type": "execute_result"
    }
   ],
   "source": [
    "# get data\n",
    "df0 = pd.read_csv('../data/user_movie_interaction.csv')\n",
    "df0.head()"
   ]
  },
  {
   "cell_type": "code",
   "execution_count": 3,
   "id": "10940838-ae28-41d3-9621-523b014789e0",
   "metadata": {},
   "outputs": [
    {
     "data": {
      "text/plain": [
       "(71554, 7)"
      ]
     },
     "execution_count": 3,
     "metadata": {},
     "output_type": "execute_result"
    }
   ],
   "source": [
    "df0.shape"
   ]
  },
  {
   "cell_type": "code",
   "execution_count": 27,
   "id": "1c166260-534b-44c1-86b1-6dbb5dbf5d45",
   "metadata": {},
   "outputs": [
    {
     "data": {
      "text/plain": [
       "userId         int64\n",
       "movieId        int64\n",
       "rating       float64\n",
       "timestamp     object\n",
       "title         object\n",
       "genres        object\n",
       "dtype: object"
      ]
     },
     "execution_count": 27,
     "metadata": {},
     "output_type": "execute_result"
    }
   ],
   "source": [
    "# remove unwanted column\n",
    "del df0['Unnamed: 0']\n",
    "df0.dtypes"
   ]
  },
  {
   "cell_type": "code",
   "execution_count": 28,
   "id": "61d4d0bd-95e8-4d52-adc8-a44a779b7fba",
   "metadata": {},
   "outputs": [
    {
     "data": {
      "text/plain": [
       "userId          int64\n",
       "movieId         int64\n",
       "rating        float64\n",
       "timestamp      object\n",
       "title          object\n",
       "genres       category\n",
       "dtype: object"
      ]
     },
     "execution_count": 28,
     "metadata": {},
     "output_type": "execute_result"
    }
   ],
   "source": [
    "# convert genres to categorical data\n",
    "df0['genres'] = df0['genres'].astype('category')\n",
    "df0.dtypes"
   ]
  },
  {
   "cell_type": "code",
   "execution_count": 29,
   "id": "55145d7f-62c4-427b-9bbb-833ed9b8f4d0",
   "metadata": {},
   "outputs": [],
   "source": [
    "# scale rating column\n",
    "df0['rating'] = df0['rating'].apply(lambda x: x/5.0)"
   ]
  },
  {
   "cell_type": "code",
   "execution_count": 30,
   "id": "01ddb7d1-fd65-4fda-b595-b7f2638bedee",
   "metadata": {},
   "outputs": [
    {
     "data": {
      "text/html": [
       "<div>\n",
       "<style scoped>\n",
       "    .dataframe tbody tr th:only-of-type {\n",
       "        vertical-align: middle;\n",
       "    }\n",
       "\n",
       "    .dataframe tbody tr th {\n",
       "        vertical-align: top;\n",
       "    }\n",
       "\n",
       "    .dataframe thead th {\n",
       "        text-align: right;\n",
       "    }\n",
       "</style>\n",
       "<table border=\"1\" class=\"dataframe\">\n",
       "  <thead>\n",
       "    <tr style=\"text-align: right;\">\n",
       "      <th></th>\n",
       "      <th>userId</th>\n",
       "      <th>movieId</th>\n",
       "      <th>rating</th>\n",
       "      <th>timestamp</th>\n",
       "      <th>title</th>\n",
       "      <th>genres</th>\n",
       "    </tr>\n",
       "  </thead>\n",
       "  <tbody>\n",
       "    <tr>\n",
       "      <th>2433</th>\n",
       "      <td>1</td>\n",
       "      <td>924</td>\n",
       "      <td>0.7</td>\n",
       "      <td>2004-09-10 03:06:38</td>\n",
       "      <td>2001: A Space Odyssey (1968)</td>\n",
       "      <td>Adventure|Drama|Sci-Fi</td>\n",
       "    </tr>\n",
       "    <tr>\n",
       "      <th>2349</th>\n",
       "      <td>1</td>\n",
       "      <td>919</td>\n",
       "      <td>0.7</td>\n",
       "      <td>2004-09-10 03:07:01</td>\n",
       "      <td>Wizard of Oz, The (1939)</td>\n",
       "      <td>Adventure|Children|Fantasy|Musical</td>\n",
       "    </tr>\n",
       "    <tr>\n",
       "      <th>6081</th>\n",
       "      <td>1</td>\n",
       "      <td>2683</td>\n",
       "      <td>0.7</td>\n",
       "      <td>2004-09-10 03:07:30</td>\n",
       "      <td>Austin Powers: The Spy Who Shagged Me (1999)</td>\n",
       "      <td>Action|Adventure|Comedy</td>\n",
       "    </tr>\n",
       "    <tr>\n",
       "      <th>5253</th>\n",
       "      <td>1</td>\n",
       "      <td>1584</td>\n",
       "      <td>0.7</td>\n",
       "      <td>2004-09-10 03:07:36</td>\n",
       "      <td>Contact (1997)</td>\n",
       "      <td>Drama|Sci-Fi</td>\n",
       "    </tr>\n",
       "    <tr>\n",
       "      <th>2634</th>\n",
       "      <td>1</td>\n",
       "      <td>1079</td>\n",
       "      <td>0.8</td>\n",
       "      <td>2004-09-10 03:07:45</td>\n",
       "      <td>Fish Called Wanda, A (1988)</td>\n",
       "      <td>Comedy|Crime</td>\n",
       "    </tr>\n",
       "    <tr>\n",
       "      <th>...</th>\n",
       "      <td>...</td>\n",
       "      <td>...</td>\n",
       "      <td>...</td>\n",
       "      <td>...</td>\n",
       "      <td>...</td>\n",
       "      <td>...</td>\n",
       "    </tr>\n",
       "    <tr>\n",
       "      <th>3688</th>\n",
       "      <td>500</td>\n",
       "      <td>1200</td>\n",
       "      <td>0.8</td>\n",
       "      <td>2012-05-16 15:34:34</td>\n",
       "      <td>Aliens (1986)</td>\n",
       "      <td>Action|Adventure|Horror|Sci-Fi</td>\n",
       "    </tr>\n",
       "    <tr>\n",
       "      <th>47936</th>\n",
       "      <td>500</td>\n",
       "      <td>162</td>\n",
       "      <td>0.8</td>\n",
       "      <td>2012-05-16 15:35:08</td>\n",
       "      <td>Crumb (1994)</td>\n",
       "      <td>Documentary</td>\n",
       "    </tr>\n",
       "    <tr>\n",
       "      <th>63087</th>\n",
       "      <td>500</td>\n",
       "      <td>3095</td>\n",
       "      <td>0.8</td>\n",
       "      <td>2012-05-16 15:35:14</td>\n",
       "      <td>Grapes of Wrath, The (1940)</td>\n",
       "      <td>Drama</td>\n",
       "    </tr>\n",
       "    <tr>\n",
       "      <th>4829</th>\n",
       "      <td>500</td>\n",
       "      <td>1291</td>\n",
       "      <td>0.8</td>\n",
       "      <td>2012-05-16 15:35:20</td>\n",
       "      <td>Indiana Jones and the Last Crusade (1989)</td>\n",
       "      <td>Action|Adventure</td>\n",
       "    </tr>\n",
       "    <tr>\n",
       "      <th>4463</th>\n",
       "      <td>500</td>\n",
       "      <td>1258</td>\n",
       "      <td>1.0</td>\n",
       "      <td>2012-05-16 15:36:11</td>\n",
       "      <td>Shining, The (1980)</td>\n",
       "      <td>Horror</td>\n",
       "    </tr>\n",
       "  </tbody>\n",
       "</table>\n",
       "<p>71554 rows × 6 columns</p>\n",
       "</div>"
      ],
      "text/plain": [
       "       userId  movieId  rating            timestamp  \\\n",
       "2433        1      924     0.7  2004-09-10 03:06:38   \n",
       "2349        1      919     0.7  2004-09-10 03:07:01   \n",
       "6081        1     2683     0.7  2004-09-10 03:07:30   \n",
       "5253        1     1584     0.7  2004-09-10 03:07:36   \n",
       "2634        1     1079     0.8  2004-09-10 03:07:45   \n",
       "...       ...      ...     ...                  ...   \n",
       "3688      500     1200     0.8  2012-05-16 15:34:34   \n",
       "47936     500      162     0.8  2012-05-16 15:35:08   \n",
       "63087     500     3095     0.8  2012-05-16 15:35:14   \n",
       "4829      500     1291     0.8  2012-05-16 15:35:20   \n",
       "4463      500     1258     1.0  2012-05-16 15:36:11   \n",
       "\n",
       "                                              title  \\\n",
       "2433                   2001: A Space Odyssey (1968)   \n",
       "2349                       Wizard of Oz, The (1939)   \n",
       "6081   Austin Powers: The Spy Who Shagged Me (1999)   \n",
       "5253                                 Contact (1997)   \n",
       "2634                    Fish Called Wanda, A (1988)   \n",
       "...                                             ...   \n",
       "3688                                  Aliens (1986)   \n",
       "47936                                  Crumb (1994)   \n",
       "63087                   Grapes of Wrath, The (1940)   \n",
       "4829      Indiana Jones and the Last Crusade (1989)   \n",
       "4463                            Shining, The (1980)   \n",
       "\n",
       "                                   genres  \n",
       "2433               Adventure|Drama|Sci-Fi  \n",
       "2349   Adventure|Children|Fantasy|Musical  \n",
       "6081              Action|Adventure|Comedy  \n",
       "5253                         Drama|Sci-Fi  \n",
       "2634                         Comedy|Crime  \n",
       "...                                   ...  \n",
       "3688       Action|Adventure|Horror|Sci-Fi  \n",
       "47936                         Documentary  \n",
       "63087                               Drama  \n",
       "4829                     Action|Adventure  \n",
       "4463                               Horror  \n",
       "\n",
       "[71554 rows x 6 columns]"
      ]
     },
     "metadata": {},
     "output_type": "display_data"
    }
   ],
   "source": [
    "# sort table primarily by `userId` then by `timestamp`, both in ascending order\n",
    "df1 = df0.sort_values(by=['userId', 'timestamp'])\n",
    "display(df1)"
   ]
  },
  {
   "cell_type": "code",
   "execution_count": 31,
   "id": "dc8cb4d8-757b-4a8d-b28d-d1f04ce66fef",
   "metadata": {},
   "outputs": [],
   "source": [
    "# timestamp is not useful information\n",
    "del df1['timestamp']"
   ]
  },
  {
   "cell_type": "code",
   "execution_count": 32,
   "id": "a4ab0d9c-7e0a-4887-8b28-cd1acd9c7ed3",
   "metadata": {},
   "outputs": [],
   "source": [
    "# genre relevance\n",
    "df1['genre_freq'] = df1['genres'].value_counts(normalize=True).loc[df1['genres']].values\n",
    "df1['user_genre_rating'] = df1.rating * df1.genre_freq"
   ]
  },
  {
   "cell_type": "code",
   "execution_count": 33,
   "id": "0cc47057-447f-4207-8b74-d38d5984ea4e",
   "metadata": {},
   "outputs": [
    {
     "data": {
      "text/html": [
       "<div>\n",
       "<style scoped>\n",
       "    .dataframe tbody tr th:only-of-type {\n",
       "        vertical-align: middle;\n",
       "    }\n",
       "\n",
       "    .dataframe tbody tr th {\n",
       "        vertical-align: top;\n",
       "    }\n",
       "\n",
       "    .dataframe thead th {\n",
       "        text-align: right;\n",
       "    }\n",
       "</style>\n",
       "<table border=\"1\" class=\"dataframe\">\n",
       "  <thead>\n",
       "    <tr style=\"text-align: right;\">\n",
       "      <th></th>\n",
       "      <th>userId</th>\n",
       "      <th>movieId</th>\n",
       "      <th>rating</th>\n",
       "      <th>title</th>\n",
       "      <th>genres</th>\n",
       "      <th>genre_freq</th>\n",
       "      <th>user_genre_rating</th>\n",
       "    </tr>\n",
       "  </thead>\n",
       "  <tbody>\n",
       "    <tr>\n",
       "      <th>2433</th>\n",
       "      <td>1</td>\n",
       "      <td>924</td>\n",
       "      <td>0.7</td>\n",
       "      <td>2001: A Space Odyssey (1968)</td>\n",
       "      <td>Adventure|Drama|Sci-Fi</td>\n",
       "      <td>0.004458</td>\n",
       "      <td>0.003121</td>\n",
       "    </tr>\n",
       "    <tr>\n",
       "      <th>2349</th>\n",
       "      <td>1</td>\n",
       "      <td>919</td>\n",
       "      <td>0.7</td>\n",
       "      <td>Wizard of Oz, The (1939)</td>\n",
       "      <td>Adventure|Children|Fantasy|Musical</td>\n",
       "      <td>0.001174</td>\n",
       "      <td>0.000822</td>\n",
       "    </tr>\n",
       "    <tr>\n",
       "      <th>6081</th>\n",
       "      <td>1</td>\n",
       "      <td>2683</td>\n",
       "      <td>0.7</td>\n",
       "      <td>Austin Powers: The Spy Who Shagged Me (1999)</td>\n",
       "      <td>Action|Adventure|Comedy</td>\n",
       "      <td>0.003158</td>\n",
       "      <td>0.002211</td>\n",
       "    </tr>\n",
       "    <tr>\n",
       "      <th>5253</th>\n",
       "      <td>1</td>\n",
       "      <td>1584</td>\n",
       "      <td>0.7</td>\n",
       "      <td>Contact (1997)</td>\n",
       "      <td>Drama|Sci-Fi</td>\n",
       "      <td>0.003620</td>\n",
       "      <td>0.002534</td>\n",
       "    </tr>\n",
       "    <tr>\n",
       "      <th>2634</th>\n",
       "      <td>1</td>\n",
       "      <td>1079</td>\n",
       "      <td>0.8</td>\n",
       "      <td>Fish Called Wanda, A (1988)</td>\n",
       "      <td>Comedy|Crime</td>\n",
       "      <td>0.011110</td>\n",
       "      <td>0.008888</td>\n",
       "    </tr>\n",
       "  </tbody>\n",
       "</table>\n",
       "</div>"
      ],
      "text/plain": [
       "      userId  movieId  rating                                         title  \\\n",
       "2433       1      924     0.7                  2001: A Space Odyssey (1968)   \n",
       "2349       1      919     0.7                      Wizard of Oz, The (1939)   \n",
       "6081       1     2683     0.7  Austin Powers: The Spy Who Shagged Me (1999)   \n",
       "5253       1     1584     0.7                                Contact (1997)   \n",
       "2634       1     1079     0.8                   Fish Called Wanda, A (1988)   \n",
       "\n",
       "                                  genres  genre_freq  user_genre_rating  \n",
       "2433              Adventure|Drama|Sci-Fi    0.004458           0.003121  \n",
       "2349  Adventure|Children|Fantasy|Musical    0.001174           0.000822  \n",
       "6081             Action|Adventure|Comedy    0.003158           0.002211  \n",
       "5253                        Drama|Sci-Fi    0.003620           0.002534  \n",
       "2634                        Comedy|Crime    0.011110           0.008888  "
      ]
     },
     "execution_count": 33,
     "metadata": {},
     "output_type": "execute_result"
    }
   ],
   "source": [
    "df1.head()"
   ]
  },
  {
   "cell_type": "code",
   "execution_count": 34,
   "id": "0ec1d60a-9032-4eb4-8dc1-86501e672d16",
   "metadata": {},
   "outputs": [
    {
     "data": {
      "text/plain": [
       "userId               0\n",
       "movieId              0\n",
       "rating               0\n",
       "title                0\n",
       "genres               0\n",
       "genre_freq           0\n",
       "user_genre_rating    0\n",
       "dtype: int64"
      ]
     },
     "execution_count": 34,
     "metadata": {},
     "output_type": "execute_result"
    }
   ],
   "source": [
    "# find and drop any missing values\n",
    "df1.isnull().sum()\n",
    "# df1.dropna()"
   ]
  },
  {
   "cell_type": "code",
   "execution_count": 35,
   "id": "65e81bf1-3b6d-415d-90a9-d86421e12fb7",
   "metadata": {},
   "outputs": [
    {
     "data": {
      "text/html": [
       "<div>\n",
       "<style scoped>\n",
       "    .dataframe tbody tr th:only-of-type {\n",
       "        vertical-align: middle;\n",
       "    }\n",
       "\n",
       "    .dataframe tbody tr th {\n",
       "        vertical-align: top;\n",
       "    }\n",
       "\n",
       "    .dataframe thead th {\n",
       "        text-align: right;\n",
       "    }\n",
       "</style>\n",
       "<table border=\"1\" class=\"dataframe\">\n",
       "  <thead>\n",
       "    <tr style=\"text-align: right;\">\n",
       "      <th></th>\n",
       "      <th>userId</th>\n",
       "      <th>movieId</th>\n",
       "      <th>rating</th>\n",
       "      <th>title</th>\n",
       "      <th>genres</th>\n",
       "      <th>genre_freq</th>\n",
       "      <th>user_genre_rating</th>\n",
       "    </tr>\n",
       "  </thead>\n",
       "  <tbody>\n",
       "    <tr>\n",
       "      <th>2433</th>\n",
       "      <td>1</td>\n",
       "      <td>924</td>\n",
       "      <td>0.7</td>\n",
       "      <td>2001: A Space Odyssey (1968)</td>\n",
       "      <td>adventure drama sci-fi</td>\n",
       "      <td>0.004458</td>\n",
       "      <td>0.003121</td>\n",
       "    </tr>\n",
       "    <tr>\n",
       "      <th>2349</th>\n",
       "      <td>1</td>\n",
       "      <td>919</td>\n",
       "      <td>0.7</td>\n",
       "      <td>Wizard of Oz, The (1939)</td>\n",
       "      <td>adventure children fantasy musical</td>\n",
       "      <td>0.001174</td>\n",
       "      <td>0.000822</td>\n",
       "    </tr>\n",
       "    <tr>\n",
       "      <th>6081</th>\n",
       "      <td>1</td>\n",
       "      <td>2683</td>\n",
       "      <td>0.7</td>\n",
       "      <td>Austin Powers: The Spy Who Shagged Me (1999)</td>\n",
       "      <td>action adventure comedy</td>\n",
       "      <td>0.003158</td>\n",
       "      <td>0.002211</td>\n",
       "    </tr>\n",
       "    <tr>\n",
       "      <th>5253</th>\n",
       "      <td>1</td>\n",
       "      <td>1584</td>\n",
       "      <td>0.7</td>\n",
       "      <td>Contact (1997)</td>\n",
       "      <td>drama sci-fi</td>\n",
       "      <td>0.003620</td>\n",
       "      <td>0.002534</td>\n",
       "    </tr>\n",
       "    <tr>\n",
       "      <th>2634</th>\n",
       "      <td>1</td>\n",
       "      <td>1079</td>\n",
       "      <td>0.8</td>\n",
       "      <td>Fish Called Wanda, A (1988)</td>\n",
       "      <td>comedy crime</td>\n",
       "      <td>0.011110</td>\n",
       "      <td>0.008888</td>\n",
       "    </tr>\n",
       "  </tbody>\n",
       "</table>\n",
       "</div>"
      ],
      "text/plain": [
       "      userId  movieId  rating                                         title  \\\n",
       "2433       1      924     0.7                  2001: A Space Odyssey (1968)   \n",
       "2349       1      919     0.7                      Wizard of Oz, The (1939)   \n",
       "6081       1     2683     0.7  Austin Powers: The Spy Who Shagged Me (1999)   \n",
       "5253       1     1584     0.7                                Contact (1997)   \n",
       "2634       1     1079     0.8                   Fish Called Wanda, A (1988)   \n",
       "\n",
       "                                  genres  genre_freq  user_genre_rating  \n",
       "2433              adventure drama sci-fi    0.004458           0.003121  \n",
       "2349  adventure children fantasy musical    0.001174           0.000822  \n",
       "6081             action adventure comedy    0.003158           0.002211  \n",
       "5253                        drama sci-fi    0.003620           0.002534  \n",
       "2634                        comedy crime    0.011110           0.008888  "
      ]
     },
     "execution_count": 35,
     "metadata": {},
     "output_type": "execute_result"
    }
   ],
   "source": [
    "# standardize `'genres` column by removing vertical slash\n",
    "# and making every letter lowercase. save this data in new\n",
    "# dataframe\n",
    "df1['genres'] = df1['genres'].apply(lambda x: x.replace('|', ' ').lower())\n",
    "df1.head()"
   ]
  },
  {
   "cell_type": "code",
   "execution_count": 36,
   "id": "6672219c-f176-4fdc-98fa-3e3c97e6fb85",
   "metadata": {},
   "outputs": [
    {
     "name": "stdout",
     "output_type": "stream",
     "text": [
      "45794 train examples\n",
      "11449 validation examples\n",
      "14311 test examples\n"
     ]
    }
   ],
   "source": [
    "# split dataset into training and testing subsets\n",
    "train, test = train_test_split(df1, test_size=.2)\n",
    "train, val = train_test_split(train, test_size=.2)\n",
    "\n",
    "# preview shape of datasets\n",
    "print(f\"{len(train)} train examples\")\n",
    "print(f\"{len(val)} validation examples\")\n",
    "print(f\"{len(test)} test examples\")\n",
    "\n",
    "# save train, test, validation samples to csv\n",
    "train.to_csv('../data/user_movie_interaction_train.csv')\n",
    "val.to_csv('../data/user_movie_interaction_val.csv')\n",
    "test.to_csv('../data/user_movie_interaction_test.csv')"
   ]
  }
 ],
 "metadata": {
  "kernelspec": {
   "display_name": "Python 3 (ipykernel)",
   "language": "python",
   "name": "python3"
  },
  "language_info": {
   "codemirror_mode": {
    "name": "ipython",
    "version": 3
   },
   "file_extension": ".py",
   "mimetype": "text/x-python",
   "name": "python",
   "nbconvert_exporter": "python",
   "pygments_lexer": "ipython3",
   "version": "3.9.2"
  }
 },
 "nbformat": 4,
 "nbformat_minor": 5
}
