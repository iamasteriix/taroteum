{
 "cells": [
  {
   "cell_type": "markdown",
   "id": "ece7813c-a00c-474c-bdc3-5a1482035ebf",
   "metadata": {},
   "source": [
    "# RECOMMENDATION ENGINE - WIDE-AND-DEEP ML"
   ]
  },
  {
   "cell_type": "markdown",
   "id": "f1b60675-f17b-4b6f-bc14-af0a8c24c0ba",
   "metadata": {},
   "source": [
    "For our final semester project, we will be using a **wide-and-deep machine learning** to build what could be a puzzle piece that fits machine learning into a bigger, more complicated, recommendation engine. A wide-and-deep model combines the *memorization* capabilities of a linear model with the *generalization* capabilities of deep learning that can allow us to create recommendation systems that can predict a wider variety of choices.\n",
    "\n",
    "Building the wide-and-deep model involves:\n",
    "- model training and evaluation.\n",
    "- something else, probably. I'm building this as I go."
   ]
  },
  {
   "cell_type": "markdown",
   "id": "4eee791a-277d-4347-a1a2-eebcf4b0211b",
   "metadata": {},
   "source": [
    "# Generate dataset"
   ]
  },
  {
   "cell_type": "markdown",
   "id": "e5d102df-cf2f-49cd-b263-de33ea8d841d",
   "metadata": {},
   "source": [
    "# Data wrangling"
   ]
  },
  {
   "cell_type": "markdown",
   "id": "cc7510eb-c52e-40e9-a246-0f6184603f89",
   "metadata": {},
   "source": [
    "# Exploratory Data Analysis"
   ]
  },
  {
   "cell_type": "markdown",
   "id": "43ced8cd-3b0b-4b65-ae29-ba0ad06f4ba9",
   "metadata": {},
   "source": [
    "# Save data"
   ]
  }
 ],
 "metadata": {
  "kernelspec": {
   "display_name": "Python 3 (ipykernel)",
   "language": "python",
   "name": "python3"
  },
  "language_info": {
   "codemirror_mode": {
    "name": "ipython",
    "version": 3
   },
   "file_extension": ".py",
   "mimetype": "text/x-python",
   "name": "python",
   "nbconvert_exporter": "python",
   "pygments_lexer": "ipython3",
   "version": "3.9.2"
  }
 },
 "nbformat": 4,
 "nbformat_minor": 5
}
