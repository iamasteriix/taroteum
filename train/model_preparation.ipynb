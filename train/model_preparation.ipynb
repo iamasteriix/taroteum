{
 "cells": [
  {
   "cell_type": "markdown",
   "id": "fbcff370-0029-46e6-84dd-17c778c60557",
   "metadata": {},
   "source": [
    "# Wide-and-Deep ML: Model Preparation"
   ]
  },
  {
   "cell_type": "markdown",
   "id": "0db3fb5e-4eb3-4b5a-82a7-013a45f44b35",
   "metadata": {},
   "source": [
    "In this notebook, we train and evaluate the wide-and-deep collaborative filtering recommender using features engineered in the prior notebook."
   ]
  },
  {
   "cell_type": "markdown",
   "id": "b0d74265-4364-4b29-af7d-ea35b4c09633",
   "metadata": {},
   "source": [
    "## 1. Prepare the data"
   ]
  },
  {
   "cell_type": "code",
   "execution_count": 17,
   "id": "3c77f893-fe4a-4d8c-80ac-5022cbe929c6",
   "metadata": {},
   "outputs": [],
   "source": [
    "# !pip3 install tensorflow"
   ]
  },
  {
   "cell_type": "code",
   "execution_count": 4,
   "id": "435b5512-2c94-4d4e-8931-ed224577607f",
   "metadata": {},
   "outputs": [
    {
     "name": "stderr",
     "output_type": "stream",
     "text": [
      "2023-11-29 18:04:03.369111: I tensorflow/core/util/port.cc:113] oneDNN custom operations are on. You may see slightly different numerical results due to floating-point round-off errors from different computation orders. To turn them off, set the environment variable `TF_ENABLE_ONEDNN_OPTS=0`.\n",
      "2023-11-29 18:04:03.381450: I external/local_tsl/tsl/cuda/cudart_stub.cc:31] Could not find cuda drivers on your machine, GPU will not be used.\n",
      "2023-11-29 18:04:03.548726: E external/local_xla/xla/stream_executor/cuda/cuda_dnn.cc:9261] Unable to register cuDNN factory: Attempting to register factory for plugin cuDNN when one has already been registered\n",
      "2023-11-29 18:04:03.548772: E external/local_xla/xla/stream_executor/cuda/cuda_fft.cc:607] Unable to register cuFFT factory: Attempting to register factory for plugin cuFFT when one has already been registered\n",
      "2023-11-29 18:04:03.560360: E external/local_xla/xla/stream_executor/cuda/cuda_blas.cc:1515] Unable to register cuBLAS factory: Attempting to register factory for plugin cuBLAS when one has already been registered\n",
      "2023-11-29 18:04:03.569112: I external/local_tsl/tsl/cuda/cudart_stub.cc:31] Could not find cuda drivers on your machine, GPU will not be used.\n",
      "2023-11-29 18:04:03.569571: I tensorflow/core/platform/cpu_feature_guard.cc:182] This TensorFlow binary is optimized to use available CPU instructions in performance-critical operations.\n",
      "To enable the following instructions: AVX2 AVX512F AVX512_VNNI FMA, in other operations, rebuild TensorFlow with the appropriate compiler flags.\n",
      "2023-11-29 18:04:04.253922: W tensorflow/compiler/tf2tensorrt/utils/py_utils.cc:38] TF-TRT Warning: Could not find TensorRT\n"
     ]
    }
   ],
   "source": [
    "# import required libraries\n",
    "\n",
    "import pandas as pd\n",
    "import tensorflow as tf"
   ]
  },
  {
   "cell_type": "code",
   "execution_count": 5,
   "id": "c1c4caa2-7ce2-46d8-97cd-dd2db6028dc3",
   "metadata": {},
   "outputs": [],
   "source": [
    "# save models\n",
    "train_df = pd.read_csv('../data/user_movie_interaction_train.csv')\n",
    "val_df = pd.read_csv('../data/user_movie_interaction_val.csv')\n",
    "test_df = pd.read_csv('../data/user_movie_interaction_train.csv')"
   ]
  },
  {
   "cell_type": "code",
   "execution_count": 6,
   "id": "dca892be-a93b-4199-a952-2c2a01df6380",
   "metadata": {},
   "outputs": [
    {
     "data": {
      "text/html": [
       "<div>\n",
       "<style scoped>\n",
       "    .dataframe tbody tr th:only-of-type {\n",
       "        vertical-align: middle;\n",
       "    }\n",
       "\n",
       "    .dataframe tbody tr th {\n",
       "        vertical-align: top;\n",
       "    }\n",
       "\n",
       "    .dataframe thead th {\n",
       "        text-align: right;\n",
       "    }\n",
       "</style>\n",
       "<table border=\"1\" class=\"dataframe\">\n",
       "  <thead>\n",
       "    <tr style=\"text-align: right;\">\n",
       "      <th></th>\n",
       "      <th>Unnamed: 0</th>\n",
       "      <th>userId</th>\n",
       "      <th>movieId</th>\n",
       "      <th>rating</th>\n",
       "      <th>title</th>\n",
       "      <th>genres</th>\n",
       "      <th>genre_freq</th>\n",
       "      <th>user_genre_rating</th>\n",
       "    </tr>\n",
       "  </thead>\n",
       "  <tbody>\n",
       "    <tr>\n",
       "      <th>0</th>\n",
       "      <td>11807</td>\n",
       "      <td>475</td>\n",
       "      <td>442</td>\n",
       "      <td>1.0</td>\n",
       "      <td>Demolition Man (1993)</td>\n",
       "      <td>action adventure sci-fi</td>\n",
       "      <td>0.021983</td>\n",
       "      <td>0.021983</td>\n",
       "    </tr>\n",
       "    <tr>\n",
       "      <th>1</th>\n",
       "      <td>63752</td>\n",
       "      <td>489</td>\n",
       "      <td>2082</td>\n",
       "      <td>0.6</td>\n",
       "      <td>Mighty Ducks, The (1992)</td>\n",
       "      <td>children comedy</td>\n",
       "      <td>0.006359</td>\n",
       "      <td>0.003815</td>\n",
       "    </tr>\n",
       "    <tr>\n",
       "      <th>2</th>\n",
       "      <td>41258</td>\n",
       "      <td>330</td>\n",
       "      <td>262</td>\n",
       "      <td>0.8</td>\n",
       "      <td>Little Princess, A (1995)</td>\n",
       "      <td>children drama</td>\n",
       "      <td>0.002963</td>\n",
       "      <td>0.002370</td>\n",
       "    </tr>\n",
       "    <tr>\n",
       "      <th>3</th>\n",
       "      <td>34631</td>\n",
       "      <td>394</td>\n",
       "      <td>44191</td>\n",
       "      <td>0.8</td>\n",
       "      <td>V for Vendetta (2006)</td>\n",
       "      <td>action sci-fi thriller imax</td>\n",
       "      <td>0.001048</td>\n",
       "      <td>0.000839</td>\n",
       "    </tr>\n",
       "    <tr>\n",
       "      <th>4</th>\n",
       "      <td>43674</td>\n",
       "      <td>238</td>\n",
       "      <td>4025</td>\n",
       "      <td>0.7</td>\n",
       "      <td>Miss Congeniality (2000)</td>\n",
       "      <td>comedy crime</td>\n",
       "      <td>0.011110</td>\n",
       "      <td>0.007777</td>\n",
       "    </tr>\n",
       "  </tbody>\n",
       "</table>\n",
       "</div>"
      ],
      "text/plain": [
       "   Unnamed: 0  userId  movieId  rating                      title  \\\n",
       "0       11807     475      442     1.0      Demolition Man (1993)   \n",
       "1       63752     489     2082     0.6   Mighty Ducks, The (1992)   \n",
       "2       41258     330      262     0.8  Little Princess, A (1995)   \n",
       "3       34631     394    44191     0.8      V for Vendetta (2006)   \n",
       "4       43674     238     4025     0.7   Miss Congeniality (2000)   \n",
       "\n",
       "                        genres  genre_freq  user_genre_rating  \n",
       "0      action adventure sci-fi    0.021983           0.021983  \n",
       "1              children comedy    0.006359           0.003815  \n",
       "2               children drama    0.002963           0.002370  \n",
       "3  action sci-fi thriller imax    0.001048           0.000839  \n",
       "4                 comedy crime    0.011110           0.007777  "
      ]
     },
     "execution_count": 6,
     "metadata": {},
     "output_type": "execute_result"
    }
   ],
   "source": [
    "train_df.head()"
   ]
  },
  {
   "cell_type": "code",
   "execution_count": 7,
   "id": "be689696-94be-41a3-9376-3e68ea9cef9b",
   "metadata": {},
   "outputs": [
    {
     "data": {
      "text/html": [
       "<div>\n",
       "<style scoped>\n",
       "    .dataframe tbody tr th:only-of-type {\n",
       "        vertical-align: middle;\n",
       "    }\n",
       "\n",
       "    .dataframe tbody tr th {\n",
       "        vertical-align: top;\n",
       "    }\n",
       "\n",
       "    .dataframe thead th {\n",
       "        text-align: right;\n",
       "    }\n",
       "</style>\n",
       "<table border=\"1\" class=\"dataframe\">\n",
       "  <thead>\n",
       "    <tr style=\"text-align: right;\">\n",
       "      <th></th>\n",
       "      <th>userId</th>\n",
       "      <th>movieId</th>\n",
       "      <th>rating</th>\n",
       "      <th>title</th>\n",
       "      <th>genres</th>\n",
       "      <th>genre_freq</th>\n",
       "      <th>user_genre_rating</th>\n",
       "    </tr>\n",
       "  </thead>\n",
       "  <tbody>\n",
       "    <tr>\n",
       "      <th>0</th>\n",
       "      <td>475</td>\n",
       "      <td>442</td>\n",
       "      <td>1.0</td>\n",
       "      <td>Demolition Man (1993)</td>\n",
       "      <td>action adventure sci-fi</td>\n",
       "      <td>0.021983</td>\n",
       "      <td>0.021983</td>\n",
       "    </tr>\n",
       "    <tr>\n",
       "      <th>1</th>\n",
       "      <td>489</td>\n",
       "      <td>2082</td>\n",
       "      <td>0.6</td>\n",
       "      <td>Mighty Ducks, The (1992)</td>\n",
       "      <td>children comedy</td>\n",
       "      <td>0.006359</td>\n",
       "      <td>0.003815</td>\n",
       "    </tr>\n",
       "    <tr>\n",
       "      <th>2</th>\n",
       "      <td>330</td>\n",
       "      <td>262</td>\n",
       "      <td>0.8</td>\n",
       "      <td>Little Princess, A (1995)</td>\n",
       "      <td>children drama</td>\n",
       "      <td>0.002963</td>\n",
       "      <td>0.002370</td>\n",
       "    </tr>\n",
       "    <tr>\n",
       "      <th>3</th>\n",
       "      <td>394</td>\n",
       "      <td>44191</td>\n",
       "      <td>0.8</td>\n",
       "      <td>V for Vendetta (2006)</td>\n",
       "      <td>action sci-fi thriller imax</td>\n",
       "      <td>0.001048</td>\n",
       "      <td>0.000839</td>\n",
       "    </tr>\n",
       "    <tr>\n",
       "      <th>4</th>\n",
       "      <td>238</td>\n",
       "      <td>4025</td>\n",
       "      <td>0.7</td>\n",
       "      <td>Miss Congeniality (2000)</td>\n",
       "      <td>comedy crime</td>\n",
       "      <td>0.011110</td>\n",
       "      <td>0.007777</td>\n",
       "    </tr>\n",
       "  </tbody>\n",
       "</table>\n",
       "</div>"
      ],
      "text/plain": [
       "   userId  movieId  rating                      title  \\\n",
       "0     475      442     1.0      Demolition Man (1993)   \n",
       "1     489     2082     0.6   Mighty Ducks, The (1992)   \n",
       "2     330      262     0.8  Little Princess, A (1995)   \n",
       "3     394    44191     0.8      V for Vendetta (2006)   \n",
       "4     238     4025     0.7   Miss Congeniality (2000)   \n",
       "\n",
       "                        genres  genre_freq  user_genre_rating  \n",
       "0      action adventure sci-fi    0.021983           0.021983  \n",
       "1              children comedy    0.006359           0.003815  \n",
       "2               children drama    0.002963           0.002370  \n",
       "3  action sci-fi thriller imax    0.001048           0.000839  \n",
       "4                 comedy crime    0.011110           0.007777  "
      ]
     },
     "execution_count": 7,
     "metadata": {},
     "output_type": "execute_result"
    }
   ],
   "source": [
    "# drop unnecessary columns\n",
    "train_df.drop(['Unnamed: 0'], axis=1, inplace=True)\n",
    "train_df.head()"
   ]
  },
  {
   "cell_type": "code",
   "execution_count": 8,
   "id": "8eea5bb8-822c-426c-a4e9-6bc3eaa341b8",
   "metadata": {},
   "outputs": [
    {
     "data": {
      "text/plain": [
       "userId                  int64\n",
       "movieId                 int64\n",
       "rating                float64\n",
       "title                  object\n",
       "genres               category\n",
       "genre_freq            float64\n",
       "user_genre_rating     float64\n",
       "dtype: object"
      ]
     },
     "execution_count": 8,
     "metadata": {},
     "output_type": "execute_result"
    }
   ],
   "source": [
    "# convert `genres` feature data to categorical\n",
    "train_df['genres'] = train_df['genres'].astype('category')\n",
    "train_df.dtypes"
   ]
  },
  {
   "cell_type": "markdown",
   "id": "4dae853f-0a50-480a-a9d5-af12a760f4cd",
   "metadata": {},
   "source": [
    "### 1.1. Capture label and feature info"
   ]
  },
  {
   "cell_type": "code",
   "execution_count": null,
   "id": "9aedaeea-8764-4e78-8444-3f6d472cc45c",
   "metadata": {},
   "outputs": [],
   "source": [
    "# get number of examples\n",
    "user_num = len(train_df['userId'].unique())\n",
    "movie_num = len(train_df['movieId'].unique())\n",
    "genre_num = len(train_df['genres'].unique())\n",
    "\n",
    "# variables to define wide and deep columns from the dataset\n",
    "LABEL_COL = 'title'\n",
    "\n",
    "NUMERIC_COLS = [\n",
    "    'rating',\n",
    "    'genre_freq',\n",
    "    'user_genre_rating'\n",
    "]\n",
    "\n",
    "CATEGORICAL_COL = [\n",
    "    'userId',\n",
    "    'movieId',\n",
    "    'genres'\n",
    "]\n",
    "\n",
    "HASH_BUCKET_SIZES = {\n",
    "    'userId': user_num,\n",
    "    'movieId': movie_num,\n",
    "    'genres': genre_num\n",
    "}\n",
    "\n",
    "EMBEDDING_DIMENSIONS = {\n",
    "    'userId': int(round(math.pow(user_num, 1/3))),\n",
    "    'movieId': int(round(math.pow(movie_num, 1/3))),\n",
    "    'genres': int(round(math.pow(genre_num, 1/3))),\n",
    "}\n",
    "\n",
    "# define wide and deep columns\n",
    "def get_wide_and_deep_cols():\n",
    "    wide_cols, deep_cols = [], []\n",
    "\n",
    "    # embedding columns\n",
    "    for col_name in CATEGORICAL_COL:\n",
    "        categorical_col = tf.feature_column.categorical_column_with_identity(\n",
    "            col_name, bucket_num = HASH_BUCKET_SIZES[col_name]\n",
    "        )\n",
    "        wrapped_col = tf.feature_column.embedding_col(\n",
    "            categorical_col,\n",
    "            dimension = EMBEDDING_DIMENSIONS[col_name],\n",
    "            combiner = 'sqrtn'\n",
    "        )\n",
    "\n",
    "        wide_cols.append(categorical_col)\n",
    "        deep_cols.append(wrapped_col)\n",
    "\n",
    "    # cross cols for ratings and frequency?\n",
    "\n",
    "    return wide_cols, deep_cols"
   ]
  },
  {
   "cell_type": "markdown",
   "id": "5a271fa9-c26a-49aa-bd4b-ed663441c77a",
   "metadata": {},
   "source": [
    "## Future development\n",
    "- use libraries like `PorterStemmer` that allows counter vectorization to find word associations in big paragraphs.\n",
    "- `sklearn`'s `CountVectorizer` does the vectorization, and `cosine_similarity` computes how closely the vectorized words relate."
   ]
  }
 ],
 "metadata": {
  "kernelspec": {
   "display_name": "Python 3 (ipykernel)",
   "language": "python",
   "name": "python3"
  },
  "language_info": {
   "codemirror_mode": {
    "name": "ipython",
    "version": 3
   },
   "file_extension": ".py",
   "mimetype": "text/x-python",
   "name": "python",
   "nbconvert_exporter": "python",
   "pygments_lexer": "ipython3",
   "version": "3.9.2"
  }
 },
 "nbformat": 4,
 "nbformat_minor": 5
}
