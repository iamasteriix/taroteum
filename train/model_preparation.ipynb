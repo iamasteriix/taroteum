{
 "cells": [
  {
   "cell_type": "markdown",
   "id": "fbcff370-0029-46e6-84dd-17c778c60557",
   "metadata": {},
   "source": [
    "# Wide-and-Deep ML: Model Preparation"
   ]
  },
  {
   "cell_type": "markdown",
   "id": "0db3fb5e-4eb3-4b5a-82a7-013a45f44b35",
   "metadata": {},
   "source": [
    "In this notebook, we train and evaluate the wide-and-deep collaborative filtering recommender using features engineered in the prior notebook."
   ]
  },
  {
   "cell_type": "markdown",
   "id": "b0d74265-4364-4b29-af7d-ea35b4c09633",
   "metadata": {},
   "source": [
    "## 1. Prepare the data"
   ]
  },
  {
   "cell_type": "code",
   "execution_count": 1,
   "id": "435b5512-2c94-4d4e-8931-ed224577607f",
   "metadata": {},
   "outputs": [],
   "source": [
    "# import required libraries\n",
    "\n",
    "import pandas as pd"
   ]
  },
  {
   "cell_type": "code",
   "execution_count": 15,
   "id": "c1c4caa2-7ce2-46d8-97cd-dd2db6028dc3",
   "metadata": {},
   "outputs": [],
   "source": [
    "# save models\n",
    "train_df = pd.read_csv('../data/user_movie_interaction_train.csv')\n",
    "val_df = pd.read_csv('../data/user_movie_interaction_val.csv')\n",
    "test_df = pd.read_csv('../data/user_movie_interaction_train.csv')"
   ]
  },
  {
   "cell_type": "code",
   "execution_count": 16,
   "id": "dca892be-a93b-4199-a952-2c2a01df6380",
   "metadata": {},
   "outputs": [
    {
     "data": {
      "text/html": [
       "<div>\n",
       "<style scoped>\n",
       "    .dataframe tbody tr th:only-of-type {\n",
       "        vertical-align: middle;\n",
       "    }\n",
       "\n",
       "    .dataframe tbody tr th {\n",
       "        vertical-align: top;\n",
       "    }\n",
       "\n",
       "    .dataframe thead th {\n",
       "        text-align: right;\n",
       "    }\n",
       "</style>\n",
       "<table border=\"1\" class=\"dataframe\">\n",
       "  <thead>\n",
       "    <tr style=\"text-align: right;\">\n",
       "      <th></th>\n",
       "      <th>Unnamed: 0</th>\n",
       "      <th>userId</th>\n",
       "      <th>movieId</th>\n",
       "      <th>rating</th>\n",
       "      <th>title</th>\n",
       "      <th>genres</th>\n",
       "      <th>genre_freq</th>\n",
       "      <th>user_genre_rating</th>\n",
       "    </tr>\n",
       "  </thead>\n",
       "  <tbody>\n",
       "    <tr>\n",
       "      <th>0</th>\n",
       "      <td>58173</td>\n",
       "      <td>360</td>\n",
       "      <td>1235</td>\n",
       "      <td>0.8</td>\n",
       "      <td>Harold and Maude (1971)</td>\n",
       "      <td>comedy drama romance</td>\n",
       "      <td>0.030536</td>\n",
       "      <td>0.024429</td>\n",
       "    </tr>\n",
       "    <tr>\n",
       "      <th>1</th>\n",
       "      <td>39649</td>\n",
       "      <td>258</td>\n",
       "      <td>3082</td>\n",
       "      <td>0.8</td>\n",
       "      <td>World Is Not Enough, The (1999)</td>\n",
       "      <td>action adventure thriller</td>\n",
       "      <td>0.015289</td>\n",
       "      <td>0.012231</td>\n",
       "    </tr>\n",
       "    <tr>\n",
       "      <th>2</th>\n",
       "      <td>47232</td>\n",
       "      <td>347</td>\n",
       "      <td>4701</td>\n",
       "      <td>0.6</td>\n",
       "      <td>Rush Hour 2 (2001)</td>\n",
       "      <td>action comedy</td>\n",
       "      <td>0.005520</td>\n",
       "      <td>0.003312</td>\n",
       "    </tr>\n",
       "    <tr>\n",
       "      <th>3</th>\n",
       "      <td>4820</td>\n",
       "      <td>471</td>\n",
       "      <td>1291</td>\n",
       "      <td>0.8</td>\n",
       "      <td>Indiana Jones and the Last Crusade (1989)</td>\n",
       "      <td>action adventure</td>\n",
       "      <td>0.005702</td>\n",
       "      <td>0.004562</td>\n",
       "    </tr>\n",
       "    <tr>\n",
       "      <th>4</th>\n",
       "      <td>44925</td>\n",
       "      <td>294</td>\n",
       "      <td>1405</td>\n",
       "      <td>0.4</td>\n",
       "      <td>Beavis and Butt-Head Do America (1996)</td>\n",
       "      <td>adventure animation comedy crime</td>\n",
       "      <td>0.000349</td>\n",
       "      <td>0.000140</td>\n",
       "    </tr>\n",
       "  </tbody>\n",
       "</table>\n",
       "</div>"
      ],
      "text/plain": [
       "   Unnamed: 0  userId  movieId  rating  \\\n",
       "0       58173     360     1235     0.8   \n",
       "1       39649     258     3082     0.8   \n",
       "2       47232     347     4701     0.6   \n",
       "3        4820     471     1291     0.8   \n",
       "4       44925     294     1405     0.4   \n",
       "\n",
       "                                       title  \\\n",
       "0                    Harold and Maude (1971)   \n",
       "1            World Is Not Enough, The (1999)   \n",
       "2                         Rush Hour 2 (2001)   \n",
       "3  Indiana Jones and the Last Crusade (1989)   \n",
       "4     Beavis and Butt-Head Do America (1996)   \n",
       "\n",
       "                             genres  genre_freq  user_genre_rating  \n",
       "0              comedy drama romance    0.030536           0.024429  \n",
       "1         action adventure thriller    0.015289           0.012231  \n",
       "2                     action comedy    0.005520           0.003312  \n",
       "3                  action adventure    0.005702           0.004562  \n",
       "4  adventure animation comedy crime    0.000349           0.000140  "
      ]
     },
     "execution_count": 16,
     "metadata": {},
     "output_type": "execute_result"
    }
   ],
   "source": [
    "train_df.head()"
   ]
  },
  {
   "cell_type": "code",
   "execution_count": 19,
   "id": "be689696-94be-41a3-9376-3e68ea9cef9b",
   "metadata": {},
   "outputs": [
    {
     "data": {
      "text/html": [
       "<div>\n",
       "<style scoped>\n",
       "    .dataframe tbody tr th:only-of-type {\n",
       "        vertical-align: middle;\n",
       "    }\n",
       "\n",
       "    .dataframe tbody tr th {\n",
       "        vertical-align: top;\n",
       "    }\n",
       "\n",
       "    .dataframe thead th {\n",
       "        text-align: right;\n",
       "    }\n",
       "</style>\n",
       "<table border=\"1\" class=\"dataframe\">\n",
       "  <thead>\n",
       "    <tr style=\"text-align: right;\">\n",
       "      <th></th>\n",
       "      <th>userId</th>\n",
       "      <th>rating</th>\n",
       "      <th>title</th>\n",
       "      <th>genres</th>\n",
       "      <th>genre_freq</th>\n",
       "      <th>user_genre_rating</th>\n",
       "    </tr>\n",
       "  </thead>\n",
       "  <tbody>\n",
       "    <tr>\n",
       "      <th>0</th>\n",
       "      <td>360</td>\n",
       "      <td>0.8</td>\n",
       "      <td>Harold and Maude (1971)</td>\n",
       "      <td>comedy drama romance</td>\n",
       "      <td>0.030536</td>\n",
       "      <td>0.024429</td>\n",
       "    </tr>\n",
       "    <tr>\n",
       "      <th>1</th>\n",
       "      <td>258</td>\n",
       "      <td>0.8</td>\n",
       "      <td>World Is Not Enough, The (1999)</td>\n",
       "      <td>action adventure thriller</td>\n",
       "      <td>0.015289</td>\n",
       "      <td>0.012231</td>\n",
       "    </tr>\n",
       "    <tr>\n",
       "      <th>2</th>\n",
       "      <td>347</td>\n",
       "      <td>0.6</td>\n",
       "      <td>Rush Hour 2 (2001)</td>\n",
       "      <td>action comedy</td>\n",
       "      <td>0.005520</td>\n",
       "      <td>0.003312</td>\n",
       "    </tr>\n",
       "    <tr>\n",
       "      <th>3</th>\n",
       "      <td>471</td>\n",
       "      <td>0.8</td>\n",
       "      <td>Indiana Jones and the Last Crusade (1989)</td>\n",
       "      <td>action adventure</td>\n",
       "      <td>0.005702</td>\n",
       "      <td>0.004562</td>\n",
       "    </tr>\n",
       "    <tr>\n",
       "      <th>4</th>\n",
       "      <td>294</td>\n",
       "      <td>0.4</td>\n",
       "      <td>Beavis and Butt-Head Do America (1996)</td>\n",
       "      <td>adventure animation comedy crime</td>\n",
       "      <td>0.000349</td>\n",
       "      <td>0.000140</td>\n",
       "    </tr>\n",
       "  </tbody>\n",
       "</table>\n",
       "</div>"
      ],
      "text/plain": [
       "   userId  rating                                      title  \\\n",
       "0     360     0.8                    Harold and Maude (1971)   \n",
       "1     258     0.8            World Is Not Enough, The (1999)   \n",
       "2     347     0.6                         Rush Hour 2 (2001)   \n",
       "3     471     0.8  Indiana Jones and the Last Crusade (1989)   \n",
       "4     294     0.4     Beavis and Butt-Head Do America (1996)   \n",
       "\n",
       "                             genres  genre_freq  user_genre_rating  \n",
       "0              comedy drama romance    0.030536           0.024429  \n",
       "1         action adventure thriller    0.015289           0.012231  \n",
       "2                     action comedy    0.005520           0.003312  \n",
       "3                  action adventure    0.005702           0.004562  \n",
       "4  adventure animation comedy crime    0.000349           0.000140  "
      ]
     },
     "execution_count": 19,
     "metadata": {},
     "output_type": "execute_result"
    }
   ],
   "source": [
    "# drop unnecessary columns\n",
    "train_df.drop(['Unnamed: 0', 'movieId'], axis=1, inplace=True)\n",
    "train_df.head()"
   ]
  },
  {
   "cell_type": "markdown",
   "id": "4dae853f-0a50-480a-a9d5-af12a760f4cd",
   "metadata": {},
   "source": [
    "### 1.1. Capture label and feature info"
   ]
  },
  {
   "cell_type": "code",
   "execution_count": null,
   "id": "9aedaeea-8764-4e78-8444-3f6d472cc45c",
   "metadata": {},
   "outputs": [],
   "source": [
    "LABEL_COL = 'title'\n",
    "\n",
    "NUMERIC_COLS = [\n",
    "    'rating',\n",
    "    'genre_freq',\n",
    "    'user_genre_rating'\n",
    "]\n",
    "\n",
    "CATEGORICAL_COL = [\n",
    "    'userId',\n",
    "    'genres'\n",
    "]\n",
    "\n",
    "HASH_BUCKET_SIZES = []\n",
    "\n",
    "EMBEDDING_DIMENSIONS = []"
   ]
  },
  {
   "cell_type": "markdown",
   "id": "5a271fa9-c26a-49aa-bd4b-ed663441c77a",
   "metadata": {},
   "source": [
    "## Future development\n",
    "- use libraries like `PorterStemmer` that allows counter vectorization to find word associations in big paragraphs.\n",
    "- `sklearn`'s `CountVectorizer` does the vectorization, and `cosine_similarity` computes how closely the vectorized words relate."
   ]
  }
 ],
 "metadata": {
  "kernelspec": {
   "display_name": "Python 3 (ipykernel)",
   "language": "python",
   "name": "python3"
  },
  "language_info": {
   "codemirror_mode": {
    "name": "ipython",
    "version": 3
   },
   "file_extension": ".py",
   "mimetype": "text/x-python",
   "name": "python",
   "nbconvert_exporter": "python",
   "pygments_lexer": "ipython3",
   "version": "3.9.2"
  }
 },
 "nbformat": 4,
 "nbformat_minor": 5
}
