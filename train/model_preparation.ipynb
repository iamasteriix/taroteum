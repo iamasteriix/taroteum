{
 "cells": [
  {
   "cell_type": "markdown",
   "id": "fbcff370-0029-46e6-84dd-17c778c60557",
   "metadata": {},
   "source": [
    "# Wide-and-Deep ML: Model Preparation"
   ]
  },
  {
   "cell_type": "markdown",
   "id": "0db3fb5e-4eb3-4b5a-82a7-013a45f44b35",
   "metadata": {},
   "source": [
    "In this notebook, we train and evaluate the wide-and-deep collaborative filtering recommender using features engineered in the prior notebook."
   ]
  },
  {
   "cell_type": "markdown",
   "id": "b0d74265-4364-4b29-af7d-ea35b4c09633",
   "metadata": {},
   "source": [
    "## 1. Prepare the data"
   ]
  },
  {
   "cell_type": "code",
   "execution_count": 17,
   "id": "3c77f893-fe4a-4d8c-80ac-5022cbe929c6",
   "metadata": {},
   "outputs": [],
   "source": [
    "# !pip3 install tensorflow"
   ]
  },
  {
   "cell_type": "code",
   "execution_count": 14,
   "id": "435b5512-2c94-4d4e-8931-ed224577607f",
   "metadata": {},
   "outputs": [],
   "source": [
    "# import required libraries\n",
    "\n",
    "import pandas as pd\n",
    "import tensorflow as tf\n",
    "import math"
   ]
  },
  {
   "cell_type": "code",
   "execution_count": 32,
   "id": "de284318-710d-4e29-94eb-5dcb51950847",
   "metadata": {},
   "outputs": [],
   "source": [
    "# directories that save stuff I don't fully understand\n",
    "CHECKPOINT_PATH = './tmp/model_checkpoint'\n",
    "EXPORT_PATH = './tmp/model_export'"
   ]
  },
  {
   "cell_type": "code",
   "execution_count": 9,
   "id": "c1c4caa2-7ce2-46d8-97cd-dd2db6028dc3",
   "metadata": {},
   "outputs": [],
   "source": [
    "# save models\n",
    "train_df = pd.read_csv('../data/user_movie_interaction_train.csv')\n",
    "val_df = pd.read_csv('../data/user_movie_interaction_val.csv')\n",
    "test_df = pd.read_csv('../data/user_movie_interaction_train.csv')"
   ]
  },
  {
   "cell_type": "code",
   "execution_count": 10,
   "id": "dca892be-a93b-4199-a952-2c2a01df6380",
   "metadata": {},
   "outputs": [
    {
     "data": {
      "text/html": [
       "<div>\n",
       "<style scoped>\n",
       "    .dataframe tbody tr th:only-of-type {\n",
       "        vertical-align: middle;\n",
       "    }\n",
       "\n",
       "    .dataframe tbody tr th {\n",
       "        vertical-align: top;\n",
       "    }\n",
       "\n",
       "    .dataframe thead th {\n",
       "        text-align: right;\n",
       "    }\n",
       "</style>\n",
       "<table border=\"1\" class=\"dataframe\">\n",
       "  <thead>\n",
       "    <tr style=\"text-align: right;\">\n",
       "      <th></th>\n",
       "      <th>Unnamed: 0</th>\n",
       "      <th>userId</th>\n",
       "      <th>movieId</th>\n",
       "      <th>rating</th>\n",
       "      <th>title</th>\n",
       "      <th>genres</th>\n",
       "      <th>avg_movie_rating</th>\n",
       "      <th>user_all_genres</th>\n",
       "    </tr>\n",
       "  </thead>\n",
       "  <tbody>\n",
       "    <tr>\n",
       "      <th>0</th>\n",
       "      <td>23695</td>\n",
       "      <td>442</td>\n",
       "      <td>51662</td>\n",
       "      <td>0.4</td>\n",
       "      <td>300 (2007)</td>\n",
       "      <td>action fantasy war imax</td>\n",
       "      <td>0.721622</td>\n",
       "      <td>fantasy sci-fi mystery animation documentary w...</td>\n",
       "    </tr>\n",
       "    <tr>\n",
       "      <th>1</th>\n",
       "      <td>37754</td>\n",
       "      <td>417</td>\n",
       "      <td>1027</td>\n",
       "      <td>0.4</td>\n",
       "      <td>Robin Hood: Prince of Thieves (1991)</td>\n",
       "      <td>adventure drama</td>\n",
       "      <td>0.610526</td>\n",
       "      <td>fantasy sci-fi musical horror mystery western ...</td>\n",
       "    </tr>\n",
       "    <tr>\n",
       "      <th>2</th>\n",
       "      <td>18178</td>\n",
       "      <td>394</td>\n",
       "      <td>45499</td>\n",
       "      <td>0.5</td>\n",
       "      <td>X-Men: The Last Stand (2006)</td>\n",
       "      <td>action sci-fi thriller</td>\n",
       "      <td>0.638095</td>\n",
       "      <td>sci-fi drama children thriller western film-no...</td>\n",
       "    </tr>\n",
       "    <tr>\n",
       "      <th>3</th>\n",
       "      <td>33268</td>\n",
       "      <td>271</td>\n",
       "      <td>60609</td>\n",
       "      <td>0.9</td>\n",
       "      <td>Death Note (2006)</td>\n",
       "      <td>adventure crime drama horror mystery</td>\n",
       "      <td>0.900000</td>\n",
       "      <td>sci-fi drama children thriller western film-no...</td>\n",
       "    </tr>\n",
       "    <tr>\n",
       "      <th>4</th>\n",
       "      <td>47465</td>\n",
       "      <td>489</td>\n",
       "      <td>3301</td>\n",
       "      <td>0.6</td>\n",
       "      <td>Whole Nine Yards, The (2000)</td>\n",
       "      <td>comedy crime</td>\n",
       "      <td>0.641667</td>\n",
       "      <td>sci-fi drama children thriller western film-no...</td>\n",
       "    </tr>\n",
       "  </tbody>\n",
       "</table>\n",
       "</div>"
      ],
      "text/plain": [
       "   Unnamed: 0  userId  movieId  rating                                 title  \\\n",
       "0       23695     442    51662     0.4                            300 (2007)   \n",
       "1       37754     417     1027     0.4  Robin Hood: Prince of Thieves (1991)   \n",
       "2       18178     394    45499     0.5          X-Men: The Last Stand (2006)   \n",
       "3       33268     271    60609     0.9                     Death Note (2006)   \n",
       "4       47465     489     3301     0.6          Whole Nine Yards, The (2000)   \n",
       "\n",
       "                                 genres  avg_movie_rating  \\\n",
       "0               action fantasy war imax          0.721622   \n",
       "1                       adventure drama          0.610526   \n",
       "2                action sci-fi thriller          0.638095   \n",
       "3  adventure crime drama horror mystery          0.900000   \n",
       "4                          comedy crime          0.641667   \n",
       "\n",
       "                                     user_all_genres  \n",
       "0  fantasy sci-fi mystery animation documentary w...  \n",
       "1  fantasy sci-fi musical horror mystery western ...  \n",
       "2  sci-fi drama children thriller western film-no...  \n",
       "3  sci-fi drama children thriller western film-no...  \n",
       "4  sci-fi drama children thriller western film-no...  "
      ]
     },
     "execution_count": 10,
     "metadata": {},
     "output_type": "execute_result"
    }
   ],
   "source": [
    "train_df.head()"
   ]
  },
  {
   "cell_type": "code",
   "execution_count": 11,
   "id": "be689696-94be-41a3-9376-3e68ea9cef9b",
   "metadata": {},
   "outputs": [
    {
     "data": {
      "text/html": [
       "<div>\n",
       "<style scoped>\n",
       "    .dataframe tbody tr th:only-of-type {\n",
       "        vertical-align: middle;\n",
       "    }\n",
       "\n",
       "    .dataframe tbody tr th {\n",
       "        vertical-align: top;\n",
       "    }\n",
       "\n",
       "    .dataframe thead th {\n",
       "        text-align: right;\n",
       "    }\n",
       "</style>\n",
       "<table border=\"1\" class=\"dataframe\">\n",
       "  <thead>\n",
       "    <tr style=\"text-align: right;\">\n",
       "      <th></th>\n",
       "      <th>userId</th>\n",
       "      <th>movieId</th>\n",
       "      <th>rating</th>\n",
       "      <th>title</th>\n",
       "      <th>genres</th>\n",
       "      <th>avg_movie_rating</th>\n",
       "      <th>user_all_genres</th>\n",
       "    </tr>\n",
       "  </thead>\n",
       "  <tbody>\n",
       "    <tr>\n",
       "      <th>0</th>\n",
       "      <td>442</td>\n",
       "      <td>51662</td>\n",
       "      <td>0.4</td>\n",
       "      <td>300 (2007)</td>\n",
       "      <td>action fantasy war imax</td>\n",
       "      <td>0.721622</td>\n",
       "      <td>fantasy sci-fi mystery animation documentary w...</td>\n",
       "    </tr>\n",
       "    <tr>\n",
       "      <th>1</th>\n",
       "      <td>417</td>\n",
       "      <td>1027</td>\n",
       "      <td>0.4</td>\n",
       "      <td>Robin Hood: Prince of Thieves (1991)</td>\n",
       "      <td>adventure drama</td>\n",
       "      <td>0.610526</td>\n",
       "      <td>fantasy sci-fi musical horror mystery western ...</td>\n",
       "    </tr>\n",
       "    <tr>\n",
       "      <th>2</th>\n",
       "      <td>394</td>\n",
       "      <td>45499</td>\n",
       "      <td>0.5</td>\n",
       "      <td>X-Men: The Last Stand (2006)</td>\n",
       "      <td>action sci-fi thriller</td>\n",
       "      <td>0.638095</td>\n",
       "      <td>sci-fi drama children thriller western film-no...</td>\n",
       "    </tr>\n",
       "    <tr>\n",
       "      <th>3</th>\n",
       "      <td>271</td>\n",
       "      <td>60609</td>\n",
       "      <td>0.9</td>\n",
       "      <td>Death Note (2006)</td>\n",
       "      <td>adventure crime drama horror mystery</td>\n",
       "      <td>0.900000</td>\n",
       "      <td>sci-fi drama children thriller western film-no...</td>\n",
       "    </tr>\n",
       "    <tr>\n",
       "      <th>4</th>\n",
       "      <td>489</td>\n",
       "      <td>3301</td>\n",
       "      <td>0.6</td>\n",
       "      <td>Whole Nine Yards, The (2000)</td>\n",
       "      <td>comedy crime</td>\n",
       "      <td>0.641667</td>\n",
       "      <td>sci-fi drama children thriller western film-no...</td>\n",
       "    </tr>\n",
       "  </tbody>\n",
       "</table>\n",
       "</div>"
      ],
      "text/plain": [
       "   userId  movieId  rating                                 title  \\\n",
       "0     442    51662     0.4                            300 (2007)   \n",
       "1     417     1027     0.4  Robin Hood: Prince of Thieves (1991)   \n",
       "2     394    45499     0.5          X-Men: The Last Stand (2006)   \n",
       "3     271    60609     0.9                     Death Note (2006)   \n",
       "4     489     3301     0.6          Whole Nine Yards, The (2000)   \n",
       "\n",
       "                                 genres  avg_movie_rating  \\\n",
       "0               action fantasy war imax          0.721622   \n",
       "1                       adventure drama          0.610526   \n",
       "2                action sci-fi thriller          0.638095   \n",
       "3  adventure crime drama horror mystery          0.900000   \n",
       "4                          comedy crime          0.641667   \n",
       "\n",
       "                                     user_all_genres  \n",
       "0  fantasy sci-fi mystery animation documentary w...  \n",
       "1  fantasy sci-fi musical horror mystery western ...  \n",
       "2  sci-fi drama children thriller western film-no...  \n",
       "3  sci-fi drama children thriller western film-no...  \n",
       "4  sci-fi drama children thriller western film-no...  "
      ]
     },
     "execution_count": 11,
     "metadata": {},
     "output_type": "execute_result"
    }
   ],
   "source": [
    "# drop unnecessary columns\n",
    "train_df.drop(['Unnamed: 0'], axis=1, inplace=True)\n",
    "val_df.drop(['Unnamed: 0'], axis=1, inplace=True)\n",
    "test_df.drop(['Unnamed: 0'], axis=1, inplace=True)\n",
    "train_df.head()"
   ]
  },
  {
   "cell_type": "code",
   "execution_count": 12,
   "id": "8eea5bb8-822c-426c-a4e9-6bc3eaa341b8",
   "metadata": {},
   "outputs": [
    {
     "data": {
      "text/plain": [
       "userId                 int64\n",
       "movieId                int64\n",
       "rating               float64\n",
       "title                 object\n",
       "genres              category\n",
       "avg_movie_rating     float64\n",
       "user_all_genres     category\n",
       "dtype: object"
      ]
     },
     "execution_count": 12,
     "metadata": {},
     "output_type": "execute_result"
    }
   ],
   "source": [
    "# convert `genres` feature data to categorical\n",
    "train_df['genres'] = train_df['genres'].astype('category')\n",
    "train_df['user_all_genres'] = train_df['user_all_genres'].astype('category')\n",
    "train_df.dtypes"
   ]
  },
  {
   "cell_type": "markdown",
   "id": "4dae853f-0a50-480a-a9d5-af12a760f4cd",
   "metadata": {},
   "source": [
    "### 1.1. Capture label and feature info"
   ]
  },
  {
   "cell_type": "code",
   "execution_count": 27,
   "id": "9aedaeea-8764-4e78-8444-3f6d472cc45c",
   "metadata": {},
   "outputs": [],
   "source": [
    "# calculate number of examples\n",
    "user_num = len(train_df['userId'].unique())\n",
    "movie_num = len(train_df['movieId'].unique())\n",
    "genre_num = len(train_df['genres'].unique())\n",
    "user_all_genres_num = len(train_df['genres'].unique())\n",
    "\n",
    "# calculate manually added embedding dimensions\n",
    "user_dim = int(round(math.pow(user_num, 1/3)))\n",
    "movie_dim = int(round(math.pow(movie_num, 1/3)))\n",
    "genre_dim = int(round(math.pow(genre_num, 1/3)))\n",
    "user_all_genres_dim = int(round(math.pow(user_all_genres_num, 1/3)))\n",
    "\n",
    "# variables to define wide and deep columns from the dataset\n",
    "LABEL_COL = 'title'\n",
    "\n",
    "NUMERIC_COLS = [\n",
    "    'rating',\n",
    "    'avg_movie_rating'\n",
    "]\n",
    "\n",
    "CATEGORICAL_COLS = [\n",
    "    'userId',\n",
    "    'movieId',\n",
    "    'genres',\n",
    "    'user_all_genres'\n",
    "]\n",
    "\n",
    "HASH_BUCKET_SIZES = {\n",
    "    'userId': user_num,\n",
    "    'movieId': movie_num,\n",
    "    'genres': genre_num,\n",
    "    'user_all_genres': user_all_genres_num\n",
    "}\n",
    "\n",
    "EMBEDDING_DIMENSIONS = {\n",
    "    'userId': user_dim,\n",
    "    'movieId': movie_dim,\n",
    "    'genres': genre_dim,\n",
    "    'user_all_genres': user_all_genres_dim,\n",
    "}\n",
    "\n",
    "# define wide and deep columns\n",
    "def get_wide_and_deep_cols():\n",
    "    wide_cols, deep_cols = [], []\n",
    "    numeric_cols, numeric_buckets = [], []\n",
    "    categorical_buckets = []\n",
    "    cat_hash_bucket_size = genre_num * genre_dim\n",
    "    left_bound = 3/5\n",
    "    rght_bound = 4.5/5\n",
    "\n",
    "    # embedding columns\n",
    "    ID_COLS = ['userId', 'movieId']\n",
    "    for col_name in CATEGORICAL_COLS:\n",
    "        categorical_col = tf.feature_column.categorical_column_with_identity(\n",
    "            col_name,\n",
    "            num_buckets = HASH_BUCKET_SIZES[col_name])\n",
    "        wrapped_col = tf.feature_column.embedding_column(\n",
    "            categorical_col,\n",
    "            dimension = EMBEDDING_DIMENSIONS[col_name],\n",
    "            combiner = 'sqrtn')\n",
    "\n",
    "        if col_name not in ID_COLS:\n",
    "            categorical_buckets.append(col_name)\n",
    "\n",
    "        wide_cols.append(categorical_col)\n",
    "        deep_cols.append(wrapped_col)\n",
    "\n",
    "    # numeric columns and respective cross columns\n",
    "    for col_name in NUMERIC_COLS:\n",
    "        col_name = tf.feature_column.numeric_column(\n",
    "            col_name,\n",
    "            shape = (1,),\n",
    "            dtype = tf.float32)\n",
    "        col_buckets = tf.feature_column.bucketized_column(\n",
    "            col_name,\n",
    "            boundaries=[left_bound, rght_bound])\n",
    "        numeric_cols.append(col_name)\n",
    "        numeric_buckets.append(col_buckets)\n",
    "\n",
    "    numeric_cols_crossed = tf.feature_column.crossed_column(numeric_buckets, 12)\n",
    "    categorical_cols_crossed = tf.feature_column.crossed_column(categorical_buckets, cat_hash_bucket_size)\n",
    "    wide_cols.extend([numeric_buckets, numeric_cols_crossed, categorical_cols_crossed])\n",
    "    deep_cols.extend(numeric_cols)\n",
    "\n",
    "    return wide_cols, deep_cols"
   ]
  },
  {
   "cell_type": "code",
   "execution_count": 28,
   "id": "f41d238e-4661-4548-8338-312408a408d0",
   "metadata": {},
   "outputs": [],
   "source": [
    "wide_columns, deep_columns = get_wide_and_deep_cols()"
   ]
  },
  {
   "cell_type": "code",
   "execution_count": 29,
   "id": "d9293817-880e-48de-8de2-fffe80b3cee0",
   "metadata": {},
   "outputs": [
    {
     "data": {
      "text/plain": [
       "[IdentityCategoricalColumn(key='userId', number_buckets=500, default_value=None),\n",
       " IdentityCategoricalColumn(key='movieId', number_buckets=6368, default_value=None),\n",
       " IdentityCategoricalColumn(key='genres', number_buckets=766, default_value=None),\n",
       " IdentityCategoricalColumn(key='user_all_genres', number_buckets=766, default_value=None),\n",
       " [BucketizedColumn(source_column=NumericColumn(key='rating', shape=(1,), default_value=None, dtype=tf.float32, normalizer_fn=None), boundaries=(0.6, 0.9)),\n",
       "  BucketizedColumn(source_column=NumericColumn(key='avg_movie_rating', shape=(1,), default_value=None, dtype=tf.float32, normalizer_fn=None), boundaries=(0.6, 0.9))],\n",
       " CrossedColumn(keys=(BucketizedColumn(source_column=NumericColumn(key='rating', shape=(1,), default_value=None, dtype=tf.float32, normalizer_fn=None), boundaries=(0.6, 0.9)), BucketizedColumn(source_column=NumericColumn(key='avg_movie_rating', shape=(1,), default_value=None, dtype=tf.float32, normalizer_fn=None), boundaries=(0.6, 0.9))), hash_bucket_size=12, hash_key=None),\n",
       " CrossedColumn(keys=('genres', 'user_all_genres'), hash_bucket_size=6894, hash_key=None)]"
      ]
     },
     "execution_count": 29,
     "metadata": {},
     "output_type": "execute_result"
    }
   ],
   "source": [
    "wide_columns"
   ]
  },
  {
   "cell_type": "code",
   "execution_count": 30,
   "id": "9b07ffb0-800c-4c50-9fc6-c8184b00144a",
   "metadata": {},
   "outputs": [
    {
     "data": {
      "text/plain": [
       "[EmbeddingColumn(categorical_column=IdentityCategoricalColumn(key='userId', number_buckets=500, default_value=None), dimension=8, combiner='sqrtn', initializer=<tensorflow.python.ops.init_ops.TruncatedNormal object at 0x7f9fd6e3a7c0>, ckpt_to_load_from=None, tensor_name_in_ckpt=None, max_norm=None, trainable=True, use_safe_embedding_lookup=True),\n",
       " EmbeddingColumn(categorical_column=IdentityCategoricalColumn(key='movieId', number_buckets=6368, default_value=None), dimension=19, combiner='sqrtn', initializer=<tensorflow.python.ops.init_ops.TruncatedNormal object at 0x7f9fd6e3a490>, ckpt_to_load_from=None, tensor_name_in_ckpt=None, max_norm=None, trainable=True, use_safe_embedding_lookup=True),\n",
       " EmbeddingColumn(categorical_column=IdentityCategoricalColumn(key='genres', number_buckets=766, default_value=None), dimension=9, combiner='sqrtn', initializer=<tensorflow.python.ops.init_ops.TruncatedNormal object at 0x7f9fd6e3a3d0>, ckpt_to_load_from=None, tensor_name_in_ckpt=None, max_norm=None, trainable=True, use_safe_embedding_lookup=True),\n",
       " EmbeddingColumn(categorical_column=IdentityCategoricalColumn(key='user_all_genres', number_buckets=766, default_value=None), dimension=9, combiner='sqrtn', initializer=<tensorflow.python.ops.init_ops.TruncatedNormal object at 0x7f9fd6e3aa30>, ckpt_to_load_from=None, tensor_name_in_ckpt=None, max_norm=None, trainable=True, use_safe_embedding_lookup=True),\n",
       " NumericColumn(key='rating', shape=(1,), default_value=None, dtype=tf.float32, normalizer_fn=None),\n",
       " NumericColumn(key='avg_movie_rating', shape=(1,), default_value=None, dtype=tf.float32, normalizer_fn=None)]"
      ]
     },
     "execution_count": 30,
     "metadata": {},
     "output_type": "execute_result"
    }
   ],
   "source": [
    "deep_columns"
   ]
  },
  {
   "cell_type": "markdown",
   "id": "83406d3a-570b-4dc5-969b-63472ec67d61",
   "metadata": {},
   "source": [
    "### 1.2. Define the wide-and-deep model\n",
    "\n",
    "- for some reason, we don't use brackets for the linear optimizers. Find out later"
   ]
  },
  {
   "cell_type": "code",
   "execution_count": 34,
   "id": "bf50097c-6999-41d5-ba89-3a964d25e376",
   "metadata": {},
   "outputs": [
    {
     "name": "stdout",
     "output_type": "stream",
     "text": [
      "INFO:tensorflow:Using default config.\n",
      "INFO:tensorflow:Using config: {'_model_dir': './tmp/model_checkpoint', '_tf_random_seed': None, '_save_summary_steps': 100, '_save_checkpoints_steps': None, '_save_checkpoints_secs': 600, '_session_config': allow_soft_placement: true\n",
      "graph_options {\n",
      "  rewrite_options {\n",
      "    meta_optimizer_iterations: ONE\n",
      "  }\n",
      "}\n",
      ", '_keep_checkpoint_max': 5, '_keep_checkpoint_every_n_hours': 10000, '_log_step_count_steps': 100, '_train_distribute': None, '_device_fn': None, '_protocol': None, '_eval_distribute': None, '_experimental_distribute': None, '_experimental_max_worker_delay_secs': None, '_session_creation_timeout_secs': 7200, '_checkpoint_save_graph_def': True, '_service': None, '_cluster_spec': ClusterSpec({}), '_task_type': 'worker', '_task_id': 0, '_global_id_in_cluster': 0, '_master': '', '_evaluation_master': '', '_is_chief': True, '_num_ps_replicas': 0, '_num_worker_replicas': 1}\n"
     ]
    }
   ],
   "source": [
    "# adapted from https://www.tensorflow.org/api_docs/python/tf/estimator/DNNLinearCombinedClassifier\n",
    "estimator = tf.estimator.DNNLinearCombinedClassifier(\n",
    "    # wide settings\n",
    "    linear_feature_columns=wide_columns,\n",
    "    linear_optimizer=tf.keras.optimizers.Ftrl,\n",
    "\n",
    "    # deep settings\n",
    "    dnn_feature_columns=deep_columns,\n",
    "    dnn_hidden_units=[100, 50],\n",
    "    dnn_optimizer=tf.keras.optimizers.Adagrad,\n",
    "\n",
    "    # warm-start settings\n",
    "    model_dir=CHECKPOINT_PATH\n",
    ");"
   ]
  },
  {
   "cell_type": "markdown",
   "id": "5a271fa9-c26a-49aa-bd4b-ed663441c77a",
   "metadata": {},
   "source": [
    "## Future development\n",
    "- use libraries like `PorterStemmer` that allows counter vectorization to find word associations in big paragraphs.\n",
    "- `sklearn`'s `CountVectorizer` does the vectorization, and `cosine_similarity` computes how closely the vectorized words relate.\n",
    "- apply regularization"
   ]
  }
 ],
 "metadata": {
  "kernelspec": {
   "display_name": "Python 3 (ipykernel)",
   "language": "python",
   "name": "python3"
  },
  "language_info": {
   "codemirror_mode": {
    "name": "ipython",
    "version": 3
   },
   "file_extension": ".py",
   "mimetype": "text/x-python",
   "name": "python",
   "nbconvert_exporter": "python",
   "pygments_lexer": "ipython3",
   "version": "3.9.2"
  }
 },
 "nbformat": 4,
 "nbformat_minor": 5
}
