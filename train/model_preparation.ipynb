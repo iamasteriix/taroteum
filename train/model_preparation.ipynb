{
 "cells": [
  {
   "cell_type": "markdown",
   "id": "fbcff370-0029-46e6-84dd-17c778c60557",
   "metadata": {},
   "source": [
    "# Wide-and-Deep ML: Model Preparation"
   ]
  },
  {
   "cell_type": "markdown",
   "id": "0db3fb5e-4eb3-4b5a-82a7-013a45f44b35",
   "metadata": {},
   "source": [
    "In this notebook, we train and evaluate the wide-and-deep collaborative filtering recommender using features engineered in the prior notebook."
   ]
  },
  {
   "cell_type": "code",
   "execution_count": 6,
   "id": "3c77f893-fe4a-4d8c-80ac-5022cbe929c6",
   "metadata": {},
   "outputs": [],
   "source": [
    "# !pip3 install tensorflow"
   ]
  },
  {
   "cell_type": "code",
   "execution_count": 2,
   "id": "435b5512-2c94-4d4e-8931-ed224577607f",
   "metadata": {},
   "outputs": [],
   "source": [
    "# import required libraries\n",
    "\n",
    "import pandas as pd\n",
    "import tensorflow as tf\n",
    "from tensorflow.keras.layers.experimental.preprocessing import TextVectorization, StringLookup\n",
    "import math"
   ]
  },
  {
   "cell_type": "code",
   "execution_count": 3,
   "id": "de284318-710d-4e29-94eb-5dcb51950847",
   "metadata": {},
   "outputs": [],
   "source": [
    "# directories that save stuff I don't fully understand\n",
    "CHECKPOINT_PATH = './tmp/model_checkpoint'\n",
    "EXPORT_PATH = './tmp/model_export'"
   ]
  },
  {
   "cell_type": "markdown",
   "id": "b0d74265-4364-4b29-af7d-ea35b4c09633",
   "metadata": {},
   "source": [
    "## 1. Prepare the data\n",
    "\n",
    "### 1.1. Load the data"
   ]
  },
  {
   "cell_type": "code",
   "execution_count": 75,
   "id": "c1c4caa2-7ce2-46d8-97cd-dd2db6028dc3",
   "metadata": {},
   "outputs": [],
   "source": [
    "# save models\n",
    "train_df = pd.read_csv('../data/user_movie_interaction_train.csv')\n",
    "val_df = pd.read_csv('../data/user_movie_interaction_val.csv')\n",
    "test_df = pd.read_csv('../data/user_movie_interaction_train.csv')"
   ]
  },
  {
   "cell_type": "code",
   "execution_count": 76,
   "id": "dca892be-a93b-4199-a952-2c2a01df6380",
   "metadata": {},
   "outputs": [
    {
     "data": {
      "text/html": [
       "<div>\n",
       "<style scoped>\n",
       "    .dataframe tbody tr th:only-of-type {\n",
       "        vertical-align: middle;\n",
       "    }\n",
       "\n",
       "    .dataframe tbody tr th {\n",
       "        vertical-align: top;\n",
       "    }\n",
       "\n",
       "    .dataframe thead th {\n",
       "        text-align: right;\n",
       "    }\n",
       "</style>\n",
       "<table border=\"1\" class=\"dataframe\">\n",
       "  <thead>\n",
       "    <tr style=\"text-align: right;\">\n",
       "      <th></th>\n",
       "      <th>Unnamed: 0</th>\n",
       "      <th>userId</th>\n",
       "      <th>movieId</th>\n",
       "      <th>rating</th>\n",
       "      <th>title</th>\n",
       "      <th>genres</th>\n",
       "      <th>avg_movie_rating</th>\n",
       "      <th>user_all_genres</th>\n",
       "    </tr>\n",
       "  </thead>\n",
       "  <tbody>\n",
       "    <tr>\n",
       "      <th>0</th>\n",
       "      <td>23695</td>\n",
       "      <td>442</td>\n",
       "      <td>51662</td>\n",
       "      <td>0.4</td>\n",
       "      <td>300 (2007)</td>\n",
       "      <td>action fantasy war imax</td>\n",
       "      <td>0.721622</td>\n",
       "      <td>fantasy sci-fi mystery animation documentary w...</td>\n",
       "    </tr>\n",
       "    <tr>\n",
       "      <th>1</th>\n",
       "      <td>37754</td>\n",
       "      <td>417</td>\n",
       "      <td>1027</td>\n",
       "      <td>0.4</td>\n",
       "      <td>Robin Hood: Prince of Thieves (1991)</td>\n",
       "      <td>adventure drama</td>\n",
       "      <td>0.610526</td>\n",
       "      <td>fantasy sci-fi musical horror mystery western ...</td>\n",
       "    </tr>\n",
       "    <tr>\n",
       "      <th>2</th>\n",
       "      <td>18178</td>\n",
       "      <td>394</td>\n",
       "      <td>45499</td>\n",
       "      <td>0.5</td>\n",
       "      <td>X-Men: The Last Stand (2006)</td>\n",
       "      <td>action sci-fi thriller</td>\n",
       "      <td>0.638095</td>\n",
       "      <td>sci-fi drama children thriller western film-no...</td>\n",
       "    </tr>\n",
       "    <tr>\n",
       "      <th>3</th>\n",
       "      <td>33268</td>\n",
       "      <td>271</td>\n",
       "      <td>60609</td>\n",
       "      <td>0.9</td>\n",
       "      <td>Death Note (2006)</td>\n",
       "      <td>adventure crime drama horror mystery</td>\n",
       "      <td>0.900000</td>\n",
       "      <td>sci-fi drama children thriller western film-no...</td>\n",
       "    </tr>\n",
       "    <tr>\n",
       "      <th>4</th>\n",
       "      <td>47465</td>\n",
       "      <td>489</td>\n",
       "      <td>3301</td>\n",
       "      <td>0.6</td>\n",
       "      <td>Whole Nine Yards, The (2000)</td>\n",
       "      <td>comedy crime</td>\n",
       "      <td>0.641667</td>\n",
       "      <td>sci-fi drama children thriller western film-no...</td>\n",
       "    </tr>\n",
       "  </tbody>\n",
       "</table>\n",
       "</div>"
      ],
      "text/plain": [
       "   Unnamed: 0  userId  movieId  rating                                 title  \\\n",
       "0       23695     442    51662     0.4                            300 (2007)   \n",
       "1       37754     417     1027     0.4  Robin Hood: Prince of Thieves (1991)   \n",
       "2       18178     394    45499     0.5          X-Men: The Last Stand (2006)   \n",
       "3       33268     271    60609     0.9                     Death Note (2006)   \n",
       "4       47465     489     3301     0.6          Whole Nine Yards, The (2000)   \n",
       "\n",
       "                                 genres  avg_movie_rating  \\\n",
       "0               action fantasy war imax          0.721622   \n",
       "1                       adventure drama          0.610526   \n",
       "2                action sci-fi thriller          0.638095   \n",
       "3  adventure crime drama horror mystery          0.900000   \n",
       "4                          comedy crime          0.641667   \n",
       "\n",
       "                                     user_all_genres  \n",
       "0  fantasy sci-fi mystery animation documentary w...  \n",
       "1  fantasy sci-fi musical horror mystery western ...  \n",
       "2  sci-fi drama children thriller western film-no...  \n",
       "3  sci-fi drama children thriller western film-no...  \n",
       "4  sci-fi drama children thriller western film-no...  "
      ]
     },
     "execution_count": 76,
     "metadata": {},
     "output_type": "execute_result"
    }
   ],
   "source": [
    "train_df.head()"
   ]
  },
  {
   "cell_type": "code",
   "execution_count": 77,
   "id": "2fe41733-d5ef-499d-b8c7-2b50ba8dbd98",
   "metadata": {},
   "outputs": [],
   "source": [
    "# add dataframes to list for convenience\n",
    "df_list = [train_df, val_df, test_df]"
   ]
  },
  {
   "cell_type": "code",
   "execution_count": 78,
   "id": "be689696-94be-41a3-9376-3e68ea9cef9b",
   "metadata": {},
   "outputs": [
    {
     "data": {
      "text/html": [
       "<div>\n",
       "<style scoped>\n",
       "    .dataframe tbody tr th:only-of-type {\n",
       "        vertical-align: middle;\n",
       "    }\n",
       "\n",
       "    .dataframe tbody tr th {\n",
       "        vertical-align: top;\n",
       "    }\n",
       "\n",
       "    .dataframe thead th {\n",
       "        text-align: right;\n",
       "    }\n",
       "</style>\n",
       "<table border=\"1\" class=\"dataframe\">\n",
       "  <thead>\n",
       "    <tr style=\"text-align: right;\">\n",
       "      <th></th>\n",
       "      <th>userId</th>\n",
       "      <th>movieId</th>\n",
       "      <th>rating</th>\n",
       "      <th>title</th>\n",
       "      <th>genres</th>\n",
       "      <th>avg_movie_rating</th>\n",
       "      <th>user_all_genres</th>\n",
       "    </tr>\n",
       "  </thead>\n",
       "  <tbody>\n",
       "    <tr>\n",
       "      <th>0</th>\n",
       "      <td>442</td>\n",
       "      <td>51662</td>\n",
       "      <td>0.4</td>\n",
       "      <td>300 (2007)</td>\n",
       "      <td>action fantasy war imax</td>\n",
       "      <td>0.721622</td>\n",
       "      <td>fantasy sci-fi mystery animation documentary w...</td>\n",
       "    </tr>\n",
       "    <tr>\n",
       "      <th>1</th>\n",
       "      <td>417</td>\n",
       "      <td>1027</td>\n",
       "      <td>0.4</td>\n",
       "      <td>Robin Hood: Prince of Thieves (1991)</td>\n",
       "      <td>adventure drama</td>\n",
       "      <td>0.610526</td>\n",
       "      <td>fantasy sci-fi musical horror mystery western ...</td>\n",
       "    </tr>\n",
       "    <tr>\n",
       "      <th>2</th>\n",
       "      <td>394</td>\n",
       "      <td>45499</td>\n",
       "      <td>0.5</td>\n",
       "      <td>X-Men: The Last Stand (2006)</td>\n",
       "      <td>action sci-fi thriller</td>\n",
       "      <td>0.638095</td>\n",
       "      <td>sci-fi drama children thriller western film-no...</td>\n",
       "    </tr>\n",
       "    <tr>\n",
       "      <th>3</th>\n",
       "      <td>271</td>\n",
       "      <td>60609</td>\n",
       "      <td>0.9</td>\n",
       "      <td>Death Note (2006)</td>\n",
       "      <td>adventure crime drama horror mystery</td>\n",
       "      <td>0.900000</td>\n",
       "      <td>sci-fi drama children thriller western film-no...</td>\n",
       "    </tr>\n",
       "    <tr>\n",
       "      <th>4</th>\n",
       "      <td>489</td>\n",
       "      <td>3301</td>\n",
       "      <td>0.6</td>\n",
       "      <td>Whole Nine Yards, The (2000)</td>\n",
       "      <td>comedy crime</td>\n",
       "      <td>0.641667</td>\n",
       "      <td>sci-fi drama children thriller western film-no...</td>\n",
       "    </tr>\n",
       "  </tbody>\n",
       "</table>\n",
       "</div>"
      ],
      "text/plain": [
       "   userId  movieId  rating                                 title  \\\n",
       "0     442    51662     0.4                            300 (2007)   \n",
       "1     417     1027     0.4  Robin Hood: Prince of Thieves (1991)   \n",
       "2     394    45499     0.5          X-Men: The Last Stand (2006)   \n",
       "3     271    60609     0.9                     Death Note (2006)   \n",
       "4     489     3301     0.6          Whole Nine Yards, The (2000)   \n",
       "\n",
       "                                 genres  avg_movie_rating  \\\n",
       "0               action fantasy war imax          0.721622   \n",
       "1                       adventure drama          0.610526   \n",
       "2                action sci-fi thriller          0.638095   \n",
       "3  adventure crime drama horror mystery          0.900000   \n",
       "4                          comedy crime          0.641667   \n",
       "\n",
       "                                     user_all_genres  \n",
       "0  fantasy sci-fi mystery animation documentary w...  \n",
       "1  fantasy sci-fi musical horror mystery western ...  \n",
       "2  sci-fi drama children thriller western film-no...  \n",
       "3  sci-fi drama children thriller western film-no...  \n",
       "4  sci-fi drama children thriller western film-no...  "
      ]
     },
     "execution_count": 78,
     "metadata": {},
     "output_type": "execute_result"
    }
   ],
   "source": [
    "# drop unnecessary columns\n",
    "for df in df_list:\n",
    "    df.drop(['Unnamed: 0'], axis=1, inplace=True)\n",
    "\n",
    "train_df.head()"
   ]
  },
  {
   "cell_type": "markdown",
   "id": "781cd2da-a0a1-4d0e-b1d4-641427d75a4c",
   "metadata": {},
   "source": [
    "### 1.2. Preprocess raw features and make Embeddings with Keras preprocessing layers.\n",
    "\n",
    "This process involves:\n",
    "- normalizing numerical features\n",
    "- turning categorical features into embeddings\n",
    "- tokenizing textual features to translate them into embeddings"
   ]
  },
  {
   "cell_type": "markdown",
   "id": "f59a3950-b9d2-455d-80ad-15e4329aaabe",
   "metadata": {},
   "source": [
    "#### 1.2.1. Converting primary features into categorical data"
   ]
  },
  {
   "cell_type": "code",
   "execution_count": 86,
   "id": "d1d2e629-6d25-4d33-a1e9-08f7b39ca95a",
   "metadata": {},
   "outputs": [
    {
     "data": {
      "text/plain": [
       "userId              string[python]\n",
       "movieId             string[python]\n",
       "rating                     float64\n",
       "title                       object\n",
       "genres                      object\n",
       "avg_movie_rating           float64\n",
       "user_all_genres             object\n",
       "dtype: object"
      ]
     },
     "execution_count": 86,
     "metadata": {},
     "output_type": "execute_result"
    }
   ],
   "source": [
    "# convert id features into string data to allow\n",
    "# tokenization with keras\n",
    "for df in df_list:\n",
    "    id_cols = df.columns[df.columns.str.contains('Id')].tolist()\n",
    "    for col in id_cols:\n",
    "        df[col] = df[col].astype('category').astype('string')\n",
    "\n",
    "train_df.dtypes"
   ]
  },
  {
   "cell_type": "markdown",
   "id": "5019d450-02e8-4fa8-9a14-00f462c1305d",
   "metadata": {},
   "source": [
    "The `StringLookup` layer is a non-trainable layer and its *state*, the vocabulary, must be constructed and set before training in a step called \"adaptation.\" It includes one or more unknown - or 'out of vocabulary,' OOV - tokens which allows the layer to handle categorical values that are not in the it, and consequently, ensures that the model can continue to learn using features that have not been seen during vocabulary construction."
   ]
  },
  {
   "cell_type": "code",
   "execution_count": null,
   "id": "c1192fbe-668c-44f1-b217-8227da1292a8",
   "metadata": {},
   "outputs": [],
   "source": [
    "# make a keras string lookup layer\n",
    "userId_lookup_layer = StringLookup(mask_token=None)\n",
    "movieId_lookup_layer = StringLookup(mask_token=None)\n",
    "\n",
    "for df in df_list:\n",
    "    userId_lookup_layer.adapt(df['userId'])\n",
    "    movieId_lookup_layer.adapt(df['movieId'])\n",
    "\n",
    "# verify tokenization\n",
    "userId_lookup_layer.get_vocabulary()[:10]"
   ]
  },
  {
   "cell_type": "code",
   "execution_count": null,
   "id": "667e342e-6d33-46ff-bd7e-28942faea78f",
   "metadata": {},
   "outputs": [],
   "source": [
    "userId_lookup_layer(train_df['userId'])"
   ]
  },
  {
   "cell_type": "markdown",
   "id": "bd629a68-8fd0-471e-9601-3025a74591d1",
   "metadata": {},
   "source": [
    "#### 1.2.2. Tokenize textual features and translate them into embeddings"
   ]
  },
  {
   "cell_type": "code",
   "execution_count": 47,
   "id": "a8c159d5-9eab-43fb-b9da-09768ab5703c",
   "metadata": {},
   "outputs": [
    {
     "name": "stdout",
     "output_type": "stream",
     "text": [
      "vocabulary[0:10]: ['', '[UNK]', 'thriller', 'drama', 'comedy', 'action', 'romance', 'adventure', 'crime', 'scifi']\n"
     ]
    },
    {
     "data": {
      "text/plain": [
       "<tf.Tensor: shape=(45794, 7), dtype=int64, numpy=\n",
       "array([[ 5, 10, 12, ...,  0,  0,  0],\n",
       "       [ 7,  3,  0, ...,  0,  0,  0],\n",
       "       [ 5,  9,  2, ...,  0,  0,  0],\n",
       "       ...,\n",
       "       [ 5,  4,  9, ...,  0,  0,  0],\n",
       "       [ 2,  0,  0, ...,  0,  0,  0],\n",
       "       [ 4,  6,  0, ...,  0,  0,  0]])>"
      ]
     },
     "execution_count": 47,
     "metadata": {},
     "output_type": "execute_result"
    }
   ],
   "source": [
    "# Keras TextVectorization layer turns raw string data into an encoded\n",
    "# representation that can be read by an embedding or dense layer\n",
    "\n",
    "# get all columns with string data\n",
    "str_cols = df.select_dtypes(include=['object']).columns.tolist()\n",
    "str_cols.remove('title')\n",
    "\n",
    "for df in df_list:\n",
    "    for col_name in str_cols:\n",
    "        vectorizer = TextVectorization()\n",
    "        vectorizer.adapt(df[col_name])\n",
    "\n",
    "# verify tokenization\n",
    "print(f'vocabulary[0:10]: {vectorizer.get_vocabulary()[:10]}')\n",
    "vectorizer(train_df['genres'])"
   ]
  },
  {
   "cell_type": "code",
   "execution_count": 66,
   "id": "bbb1085d-039b-43b6-8f27-9aa1cc919a87",
   "metadata": {},
   "outputs": [
    {
     "name": "stdout",
     "output_type": "stream",
     "text": [
      "      userId movieId  rating  \\\n",
      "0        442   51662     0.4   \n",
      "1        417    1027     0.4   \n",
      "2        394   45499     0.5   \n",
      "3        271   60609     0.9   \n",
      "4        489    3301     0.6   \n",
      "...      ...     ...     ...   \n",
      "45789    170    2300     0.8   \n",
      "45790     11   67295     0.8   \n",
      "45791    422    5459     0.6   \n",
      "45792    334     457     1.0   \n",
      "45793    151    2706     0.2   \n",
      "\n",
      "                                                   title  \\\n",
      "0                                             300 (2007)   \n",
      "1                   Robin Hood: Prince of Thieves (1991)   \n",
      "2                           X-Men: The Last Stand (2006)   \n",
      "3                                      Death Note (2006)   \n",
      "4                           Whole Nine Yards, The (2000)   \n",
      "...                                                  ...   \n",
      "45789                              Producers, The (1968)   \n",
      "45790  Kung Fu Panda: Secrets of the Furious Five (2008)   \n",
      "45791  Men in Black II (a.k.a. MIIB) (a.k.a. MIB 2) (...   \n",
      "45792                               Fugitive, The (1993)   \n",
      "45793                                American Pie (1999)   \n",
      "\n",
      "                                     genres  avg_movie_rating  \\\n",
      "0                   action fantasy war imax          0.721622   \n",
      "1                           adventure drama          0.610526   \n",
      "2                    action sci-fi thriller          0.638095   \n",
      "3      adventure crime drama horror mystery          0.900000   \n",
      "4                              comedy crime          0.641667   \n",
      "...                                     ...               ...   \n",
      "45789                                comedy          0.808696   \n",
      "45790      action animation children comedy          0.800000   \n",
      "45791                  action comedy sci-fi          0.587097   \n",
      "45792                              thriller          0.807879   \n",
      "45793                        comedy romance          0.648052   \n",
      "\n",
      "                                         user_all_genres  \n",
      "0      fantasy sci-fi mystery animation documentary w...  \n",
      "1      fantasy sci-fi musical horror mystery western ...  \n",
      "2      sci-fi drama children thriller western film-no...  \n",
      "3      sci-fi drama children thriller western film-no...  \n",
      "4      sci-fi drama children thriller western film-no...  \n",
      "...                                                  ...  \n",
      "45789  fantasy sci-fi musical mystery animation weste...  \n",
      "45790  sci-fi drama children thriller western film-no...  \n",
      "45791  sci-fi drama children thriller western film-no...  \n",
      "45792  fantasy sci-fi musical horror mystery western ...  \n",
      "45793  fantasy sci-fi musical horror mystery western ...  \n",
      "\n",
      "[45794 rows x 7 columns] complete!\n",
      "      userId movieId  rating                                      title  \\\n",
      "0        473    3494     1.0                           True Grit (1969)   \n",
      "1        205      32     0.8  Twelve Monkeys (a.k.a. 12 Monkeys) (1995)   \n",
      "2        347    4734     0.8      Jay and Silent Bob Strike Back (2001)   \n",
      "3        489     539     0.6                Sleepless in Seattle (1993)   \n",
      "4        424    2121     0.2                                Cujo (1983)   \n",
      "...      ...     ...     ...                                        ...   \n",
      "11444    313    3785     0.5                         Scary Movie (2000)   \n",
      "11445    156    2712     0.2                      Eyes Wide Shut (1999)   \n",
      "11446     38       8     0.6                        Tom and Huck (1995)   \n",
      "11447    425     593     0.9           Silence of the Lambs, The (1991)   \n",
      "11448    104     971     0.6               Cat on a Hot Tin Roof (1958)   \n",
      "\n",
      "                        genres  avg_movie_rating  \\\n",
      "0      adventure drama western          0.783333   \n",
      "1      mystery sci-fi thriller          0.767296   \n",
      "2             adventure comedy          0.605882   \n",
      "3         comedy drama romance          0.721875   \n",
      "4              horror thriller          0.442857   \n",
      "...                        ...               ...   \n",
      "11444            comedy horror          0.541935   \n",
      "11445   drama mystery thriller          0.658491   \n",
      "11446       adventure children          0.483333   \n",
      "11447    crime horror thriller          0.819249   \n",
      "11448                    drama          0.761538   \n",
      "\n",
      "                                         user_all_genres  \n",
      "0      fantasy sci-fi musical horror mystery western ...  \n",
      "1      sci-fi drama children thriller western film-no...  \n",
      "2      sci-fi drama children thriller western film-no...  \n",
      "3      sci-fi drama children thriller western film-no...  \n",
      "4      sci-fi drama children thriller western film-no...  \n",
      "...                                                  ...  \n",
      "11444  fantasy sci-fi musical mystery animation docum...  \n",
      "11445  sci-fi drama children thriller western film-no...  \n",
      "11446  fantasy sci-fi musical horror mystery western ...  \n",
      "11447  sci-fi drama children thriller western film-no...  \n",
      "11448  sci-fi drama children thriller western film-no...  \n",
      "\n",
      "[11449 rows x 7 columns] complete!\n",
      "      userId movieId  rating  \\\n",
      "0        442   51662     0.4   \n",
      "1        417    1027     0.4   \n",
      "2        394   45499     0.5   \n",
      "3        271   60609     0.9   \n",
      "4        489    3301     0.6   \n",
      "...      ...     ...     ...   \n",
      "45789    170    2300     0.8   \n",
      "45790     11   67295     0.8   \n",
      "45791    422    5459     0.6   \n",
      "45792    334     457     1.0   \n",
      "45793    151    2706     0.2   \n",
      "\n",
      "                                                   title  \\\n",
      "0                                             300 (2007)   \n",
      "1                   Robin Hood: Prince of Thieves (1991)   \n",
      "2                           X-Men: The Last Stand (2006)   \n",
      "3                                      Death Note (2006)   \n",
      "4                           Whole Nine Yards, The (2000)   \n",
      "...                                                  ...   \n",
      "45789                              Producers, The (1968)   \n",
      "45790  Kung Fu Panda: Secrets of the Furious Five (2008)   \n",
      "45791  Men in Black II (a.k.a. MIIB) (a.k.a. MIB 2) (...   \n",
      "45792                               Fugitive, The (1993)   \n",
      "45793                                American Pie (1999)   \n",
      "\n",
      "                                     genres  avg_movie_rating  \\\n",
      "0                   action fantasy war imax          0.721622   \n",
      "1                           adventure drama          0.610526   \n",
      "2                    action sci-fi thriller          0.638095   \n",
      "3      adventure crime drama horror mystery          0.900000   \n",
      "4                              comedy crime          0.641667   \n",
      "...                                     ...               ...   \n",
      "45789                                comedy          0.808696   \n",
      "45790      action animation children comedy          0.800000   \n",
      "45791                  action comedy sci-fi          0.587097   \n",
      "45792                              thriller          0.807879   \n",
      "45793                        comedy romance          0.648052   \n",
      "\n",
      "                                         user_all_genres  \n",
      "0      fantasy sci-fi mystery animation documentary w...  \n",
      "1      fantasy sci-fi musical horror mystery western ...  \n",
      "2      sci-fi drama children thriller western film-no...  \n",
      "3      sci-fi drama children thriller western film-no...  \n",
      "4      sci-fi drama children thriller western film-no...  \n",
      "...                                                  ...  \n",
      "45789  fantasy sci-fi musical mystery animation weste...  \n",
      "45790  sci-fi drama children thriller western film-no...  \n",
      "45791  sci-fi drama children thriller western film-no...  \n",
      "45792  fantasy sci-fi musical horror mystery western ...  \n",
      "45793  fantasy sci-fi musical horror mystery western ...  \n",
      "\n",
      "[45794 rows x 7 columns] complete!\n"
     ]
    }
   ],
   "source": [
    "# combine the numerical and vectorized data to create a\n",
    "# tensorflow dataset\n",
    "\n",
    "tfd_list = ['train', 'test', 'val']\n",
    "i = 0\n",
    "\n",
    "for df in df_list:\n",
    "    userId = userId_lookup_layer(df['userId'])\n",
    "    movieId = userId_lookup_layer(df['movieId'])\n",
    "    rating = df['rating']\n",
    "    avg_movie_rating = df['avg_movie_rating']\n",
    "    genres = vectorizer(df['genres'])\n",
    "    user_all_genres = vectorizer(df['user_all_genres'])\n",
    "    \n",
    "    skibidi = (userId, movieId, rating, avg_movie_rating, genres, user_all_genres)\n",
    "    \n",
    "    globals()[f'{tfd_list[i]}_tf_dataset'] = tf.data.Dataset.from_tensor_slices(skibidi)\n",
    "    i += 1"
   ]
  },
  {
   "cell_type": "markdown",
   "id": "4dae853f-0a50-480a-a9d5-af12a760f4cd",
   "metadata": {},
   "source": [
    "## 2. Create the model"
   ]
  },
  {
   "cell_type": "code",
   "execution_count": 37,
   "id": "9aedaeea-8764-4e78-8444-3f6d472cc45c",
   "metadata": {},
   "outputs": [],
   "source": [
    "# calculate number of examples\n",
    "user_num = len(train_df['userId'].unique())\n",
    "movie_num = len(train_df['movieId'].unique())\n",
    "genre_num = len(train_df['genres'].unique())\n",
    "user_all_genres_num = len(train_df['genres'].unique())\n",
    "\n",
    "# calculate manually added embedding dimensions\n",
    "user_dim = int(round(math.pow(user_num, 1/3)))\n",
    "movie_dim = int(round(math.pow(movie_num, 1/3)))\n",
    "genre_dim = int(round(math.pow(genre_num, 1/3)))\n",
    "user_all_genres_dim = int(round(math.pow(user_all_genres_num, 1/3)))\n",
    "\n",
    "# variables to define wide and deep columns from the dataset\n",
    "LABEL_COL = 'title'\n",
    "\n",
    "CATEGORICAL_COLS = [\n",
    "    'userId',\n",
    "    'movieId'\n",
    "]\n",
    "\n",
    "NUMERIC_COLS = [\n",
    "    'rating',\n",
    "    'avg_movie_rating'\n",
    "]\n",
    "\n",
    "TEXT_COLS = [\n",
    "    'genres',\n",
    "    'user_all_genres'\n",
    "]\n",
    "\n",
    "HASH_BUCKET_SIZES = {\n",
    "    'userId': user_num,\n",
    "    'movieId': movie_num,\n",
    "    'genres': genre_num,\n",
    "    'user_all_genres': user_all_genres_num\n",
    "}\n",
    "\n",
    "EMBEDDING_DIMENSIONS = {\n",
    "    'userId': user_dim,\n",
    "    'movieId': movie_dim,\n",
    "    'genres': genre_dim,\n",
    "    'user_all_genres': user_all_genres_dim,\n",
    "}\n",
    "\n",
    "# define wide and deep columns\n",
    "def get_wide_and_deep_columns():\n",
    "    wide_cols, deep_cols = [], []\n",
    "    text_buckets = []\n",
    "    numeric_cols, numeric_buckets = [], []\n",
    "    cat_hash_bucket_size = genre_num * genre_dim\n",
    "    l, r = (3/5, 4.5/5)\n",
    "\n",
    "    # categorical embedding columns\n",
    "    for col_name in CATEGORICAL_COLS:\n",
    "        categorical_col = tf.feature_column.categorical_column_with_identity(\n",
    "            col_name,\n",
    "            num_buckets = HASH_BUCKET_SIZES[col_name])\n",
    "        wrapped_col = tf.feature_column.embedding_column(\n",
    "            categorical_col,\n",
    "            dimension = EMBEDDING_DIMENSIONS[col_name],\n",
    "            combiner = 'sqrtn')\n",
    "        wide_cols.append(categorical_col)\n",
    "        deep_cols.append(wrapped_col)\n",
    "\n",
    "    # text data embedding\n",
    "    for col_name in TEXT_COLS:\n",
    "        text_col = tf.feature_column.categorical_column_with_identity(\n",
    "            col_name,\n",
    "            num_buckets = HASH_BUCKET_SIZES[col_name])\n",
    "        wrapped_col = tf.feature_column.embedding_column(\n",
    "            categorical_col,\n",
    "            dimension = EMBEDDING_DIMENSIONS[col_name],\n",
    "            combiner = 'sqrtn')\n",
    "        text_buckets.append(col_name)\n",
    "        wide_cols.append(text_col)\n",
    "        deep_cols.append(wrapped_col)\n",
    "\n",
    "    # numeric columns\n",
    "    for col_name in NUMERIC_COLS:\n",
    "        col_name = tf.feature_column.numeric_column(\n",
    "            col_name,\n",
    "            shape = (1,),\n",
    "            dtype = tf.float32)\n",
    "        col_buckets = tf.feature_column.bucketized_column(\n",
    "            col_name,\n",
    "            boundaries=[l, r])\n",
    "        numeric_cols.append(col_name)\n",
    "        numeric_buckets.append(col_buckets)\n",
    "        deep_cols.append(col_name)\n",
    "\n",
    "    # cross numeric columns, text data columns\n",
    "    numeric_cols_crossed = tf.feature_column.crossed_column(numeric_buckets, 12)\n",
    "    text_cols_crossed = tf.feature_column.crossed_column(text_buckets, cat_hash_bucket_size)\n",
    "\n",
    "    # add buckets and crossed columns to set of wide columns\n",
    "    wide_cols.extend([numeric_buckets, numeric_cols_crossed, text_cols_crossed])\n",
    "\n",
    "    return wide_cols, deep_cols"
   ]
  },
  {
   "cell_type": "code",
   "execution_count": 38,
   "id": "f41d238e-4661-4548-8338-312408a408d0",
   "metadata": {},
   "outputs": [],
   "source": [
    "wide_columns, deep_columns = get_wide_and_deep_columns()"
   ]
  },
  {
   "cell_type": "code",
   "execution_count": 39,
   "id": "d9293817-880e-48de-8de2-fffe80b3cee0",
   "metadata": {},
   "outputs": [
    {
     "data": {
      "text/plain": [
       "[IdentityCategoricalColumn(key='userId', number_buckets=500, default_value=None),\n",
       " IdentityCategoricalColumn(key='movieId', number_buckets=6368, default_value=None),\n",
       " IdentityCategoricalColumn(key='genres', number_buckets=766, default_value=None),\n",
       " IdentityCategoricalColumn(key='user_all_genres', number_buckets=766, default_value=None),\n",
       " [BucketizedColumn(source_column=NumericColumn(key='rating', shape=(1,), default_value=None, dtype=tf.float32, normalizer_fn=None), boundaries=(0.6, 0.9)),\n",
       "  BucketizedColumn(source_column=NumericColumn(key='avg_movie_rating', shape=(1,), default_value=None, dtype=tf.float32, normalizer_fn=None), boundaries=(0.6, 0.9))],\n",
       " CrossedColumn(keys=(BucketizedColumn(source_column=NumericColumn(key='rating', shape=(1,), default_value=None, dtype=tf.float32, normalizer_fn=None), boundaries=(0.6, 0.9)), BucketizedColumn(source_column=NumericColumn(key='avg_movie_rating', shape=(1,), default_value=None, dtype=tf.float32, normalizer_fn=None), boundaries=(0.6, 0.9))), hash_bucket_size=12, hash_key=None),\n",
       " CrossedColumn(keys=('genres', 'user_all_genres'), hash_bucket_size=6894, hash_key=None)]"
      ]
     },
     "execution_count": 39,
     "metadata": {},
     "output_type": "execute_result"
    }
   ],
   "source": [
    "wide_columns"
   ]
  },
  {
   "cell_type": "code",
   "execution_count": 40,
   "id": "9b07ffb0-800c-4c50-9fc6-c8184b00144a",
   "metadata": {},
   "outputs": [
    {
     "data": {
      "text/plain": [
       "[EmbeddingColumn(categorical_column=IdentityCategoricalColumn(key='userId', number_buckets=500, default_value=None), dimension=8, combiner='sqrtn', initializer=<tensorflow.python.ops.init_ops.TruncatedNormal object at 0x7f62ec3174c0>, ckpt_to_load_from=None, tensor_name_in_ckpt=None, max_norm=None, trainable=True, use_safe_embedding_lookup=True),\n",
       " EmbeddingColumn(categorical_column=IdentityCategoricalColumn(key='movieId', number_buckets=6368, default_value=None), dimension=19, combiner='sqrtn', initializer=<tensorflow.python.ops.init_ops.TruncatedNormal object at 0x7f62ec317b50>, ckpt_to_load_from=None, tensor_name_in_ckpt=None, max_norm=None, trainable=True, use_safe_embedding_lookup=True),\n",
       " EmbeddingColumn(categorical_column=IdentityCategoricalColumn(key='movieId', number_buckets=6368, default_value=None), dimension=9, combiner='sqrtn', initializer=<tensorflow.python.ops.init_ops.TruncatedNormal object at 0x7f62ec317310>, ckpt_to_load_from=None, tensor_name_in_ckpt=None, max_norm=None, trainable=True, use_safe_embedding_lookup=True),\n",
       " EmbeddingColumn(categorical_column=IdentityCategoricalColumn(key='movieId', number_buckets=6368, default_value=None), dimension=9, combiner='sqrtn', initializer=<tensorflow.python.ops.init_ops.TruncatedNormal object at 0x7f62ec317730>, ckpt_to_load_from=None, tensor_name_in_ckpt=None, max_norm=None, trainable=True, use_safe_embedding_lookup=True),\n",
       " NumericColumn(key='rating', shape=(1,), default_value=None, dtype=tf.float32, normalizer_fn=None),\n",
       " NumericColumn(key='avg_movie_rating', shape=(1,), default_value=None, dtype=tf.float32, normalizer_fn=None)]"
      ]
     },
     "execution_count": 40,
     "metadata": {},
     "output_type": "execute_result"
    }
   ],
   "source": [
    "deep_columns"
   ]
  },
  {
   "cell_type": "markdown",
   "id": "83406d3a-570b-4dc5-969b-63472ec67d61",
   "metadata": {},
   "source": [
    "### 1.2. Define the wide-and-deep model\n",
    "\n",
    "- for some reason, we don't use brackets for the linear optimizers. Find out later (we do?)\n",
    "- we're using the `Ftrl` and `Adagrad` optimizers that have their default learning rate and other parameters that we can modify later."
   ]
  },
  {
   "cell_type": "code",
   "execution_count": 42,
   "id": "bf50097c-6999-41d5-ba89-3a964d25e376",
   "metadata": {},
   "outputs": [
    {
     "name": "stdout",
     "output_type": "stream",
     "text": [
      "INFO:tensorflow:Using default config.\n",
      "INFO:tensorflow:Using config: {'_model_dir': './tmp/model_checkpoint', '_tf_random_seed': None, '_save_summary_steps': 100, '_save_checkpoints_steps': None, '_save_checkpoints_secs': 600, '_session_config': allow_soft_placement: true\n",
      "graph_options {\n",
      "  rewrite_options {\n",
      "    meta_optimizer_iterations: ONE\n",
      "  }\n",
      "}\n",
      ", '_keep_checkpoint_max': 5, '_keep_checkpoint_every_n_hours': 10000, '_log_step_count_steps': 100, '_train_distribute': None, '_device_fn': None, '_protocol': None, '_eval_distribute': None, '_experimental_distribute': None, '_experimental_max_worker_delay_secs': None, '_session_creation_timeout_secs': 7200, '_checkpoint_save_graph_def': True, '_service': None, '_cluster_spec': ClusterSpec({}), '_task_type': 'worker', '_task_id': 0, '_global_id_in_cluster': 0, '_master': '', '_evaluation_master': '', '_is_chief': True, '_num_ps_replicas': 0, '_num_worker_replicas': 1}\n"
     ]
    }
   ],
   "source": [
    "# adapted from https://www.tensorflow.org/api_docs/python/tf/estimator/DNNLinearCombinedClassifier\n",
    "estimator = tf.estimator.DNNLinearCombinedClassifier(\n",
    "    # wide settings\n",
    "    linear_feature_columns=wide_columns,\n",
    "    linear_optimizer=tf.keras.optimizers.Ftrl(),\n",
    "\n",
    "    # deep settings\n",
    "    dnn_feature_columns=deep_columns,\n",
    "    dnn_hidden_units=[100, 50],\n",
    "    dnn_optimizer=tf.keras.optimizers.Adagrad(),\n",
    "\n",
    "    # warm-start settings\n",
    "    model_dir=CHECKPOINT_PATH\n",
    ")"
   ]
  },
  {
   "cell_type": "markdown",
   "id": "bc3a148f-c8c5-4f7a-bd77-8f2788dc697b",
   "metadata": {},
   "source": [
    "### 1.3. Create the custom metric"
   ]
  },
  {
   "cell_type": "code",
   "execution_count": 43,
   "id": "5548bf62-674f-4247-93d6-c160d42a3f1c",
   "metadata": {},
   "outputs": [],
   "source": [
    "# adapted from: https://github.com/NVIDIA/DeepLearningExamples/blob/master/TensorFlow/Recommendation/WideAndDeep/utils/metrics.py\n",
    "def map_custom_metric(features, labels, predictions):\n",
    "    user_ids = tf.reshape(features['userId'], [-1])\n",
    "    predictions = predictions['probabilities'][:, 1]\n",
    "    \n",
    "    # Processing unique userIds, indices and counts\n",
    "    # Sorting needed in case the same userId occurs in two different places\n",
    "    sorted_ids = tf.argsort(user_ids)\n",
    "    user_ids = tf.gather(user_ids, indices=sorted_ids)\n",
    "    predictions = tf.gather(predictions, indices=sorted_ids)\n",
    "    labels = tf.gather(labels, indices=sorted_ids)\n",
    "    \n",
    "    _, user_ids_idx, user_ids_movies_count = tf.unique_with_counts(user_ids, out_idx=tf.int64)\n",
    "    pad_length = 30 - tf.reduce_max(user_ids_movies_count)\n",
    "    pad_fn = lambda x: tf.pad(x, [(0, 0), (0, pad_length)])\n",
    "    \n",
    "    preds = tf.RaggedTensor.from_value_rowids(predictions, user_ids_idx).to_tensor()\n",
    "    labels = tf.RaggedTensor.from_value_rowids(labels, user_ids_idx).to_tensor()\n",
    "    \n",
    "    labels = tf.argmax(labels, axis=1)\n",
    "    \n",
    "    return {\n",
    "        'map': tf.compat.v1.metrics.average_precision_at_k(\n",
    "            predictions=pad_fn(preds),\n",
    "            labels=labels,\n",
    "            k=5,\n",
    "            name=\"streaming_map\"\n",
    "        )}"
   ]
  },
  {
   "cell_type": "code",
   "execution_count": 45,
   "id": "232c5fc7-f786-4297-a7d7-83f02adcb9bf",
   "metadata": {},
   "outputs": [
    {
     "name": "stdout",
     "output_type": "stream",
     "text": [
      "INFO:tensorflow:Using config: {'_model_dir': './tmp/model_checkpoint', '_tf_random_seed': None, '_save_summary_steps': 100, '_save_checkpoints_steps': None, '_save_checkpoints_secs': 600, '_session_config': allow_soft_placement: true\n",
      "graph_options {\n",
      "  rewrite_options {\n",
      "    meta_optimizer_iterations: ONE\n",
      "  }\n",
      "}\n",
      ", '_keep_checkpoint_max': 5, '_keep_checkpoint_every_n_hours': 10000, '_log_step_count_steps': 100, '_train_distribute': None, '_device_fn': None, '_protocol': None, '_eval_distribute': None, '_experimental_distribute': None, '_experimental_max_worker_delay_secs': None, '_session_creation_timeout_secs': 7200, '_checkpoint_save_graph_def': True, '_service': None, '_cluster_spec': ClusterSpec({}), '_task_type': 'worker', '_task_id': 0, '_global_id_in_cluster': 0, '_master': '', '_evaluation_master': '', '_is_chief': True, '_num_ps_replicas': 0, '_num_worker_replicas': 1}\n"
     ]
    }
   ],
   "source": [
    "estimator = tf.estimator.add_metrics(estimator, map_custom_metric)"
   ]
  },
  {
   "cell_type": "markdown",
   "id": "8118df69-357d-4f57-b34b-8ebbe5d082c4",
   "metadata": {},
   "source": [
    "### 3. Train the model"
   ]
  },
  {
   "cell_type": "markdown",
   "id": "5a271fa9-c26a-49aa-bd4b-ed663441c77a",
   "metadata": {
    "jp-MarkdownHeadingCollapsed": true
   },
   "source": [
    "## Future development\n",
    "- use libraries like `PorterStemmer` that allows counter vectorization to find word associations in big paragraphs.\n",
    "- `sklearn`'s `CountVectorizer` does the vectorization, and `cosine_similarity` computes how closely the vectorized words relate."
   ]
  },
  {
   "cell_type": "code",
   "execution_count": null,
   "id": "5b84a4b8-2c0e-41e4-b9d9-155abc82a00a",
   "metadata": {},
   "outputs": [],
   "source": []
  }
 ],
 "metadata": {
  "kernelspec": {
   "display_name": "Python 3 (ipykernel)",
   "language": "python",
   "name": "python3"
  },
  "language_info": {
   "codemirror_mode": {
    "name": "ipython",
    "version": 3
   },
   "file_extension": ".py",
   "mimetype": "text/x-python",
   "name": "python",
   "nbconvert_exporter": "python",
   "pygments_lexer": "ipython3",
   "version": "3.9.2"
  }
 },
 "nbformat": 4,
 "nbformat_minor": 5
}
