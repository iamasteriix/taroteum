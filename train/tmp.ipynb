{
 "cells": [
  {
   "cell_type": "code",
   "execution_count": null,
   "id": "58994288-d359-4d08-ba14-8bde5e174015",
   "metadata": {},
   "outputs": [],
   "source": [
    "LABEL_COL = 'title'\n",
    "\n",
    "CATEGORICAL_COLS = [\n",
    "    'userId',\n",
    "    'movieId'\n",
    "]\n",
    "\n",
    "NUMERIC_COLS = [\n",
    "    'rating',\n",
    "    'avg_movie_rating'\n",
    "]\n",
    "\n",
    "TEXT_COLS = [\n",
    "    'genres',\n",
    "    'user_all_genres'\n",
    "]\n",
    "\n",
    "HASH_BUCKET_SIZES = {\n",
    "    'userId': user_num,\n",
    "    'movieId': movie_num,\n",
    "    'genres': genre_num,\n",
    "    'user_all_genres': user_all_genres_num\n",
    "}\n",
    "\n",
    "EMBEDDING_DIMENSIONS = {\n",
    "    'userId': user_dim,\n",
    "    'movieId': movie_dim,\n",
    "    'genres': genre_dim,\n",
    "    'user_all_genres': user_all_genres_dim,"
   ]
  },
  {
   "cell_type": "code",
   "execution_count": null,
   "id": "3088d33f-db6d-4524-9d3c-37405f680e6b",
   "metadata": {},
   "outputs": [],
   "source": [
    "# def get_wide_and_deep_cols():\n",
    "    wide_cols, deep_cols = [], []\n",
    "    categorical_buckets = []\n",
    "    numeric_cols, numeric_buckets = [], []\n",
    "    cat_hash_bucket_size = genre_num * genre_dim\n",
    "    lft_bound, rgt_bound = (3/5, 4.5/5)\n",
    "    \n",
    "\n",
    "    # categorical embedding columns\n",
    "    for col_name in CATEGORICAL_COLS:\n",
    "        categorical_col = tf.feature_column.categorical_column_with_identity(\n",
    "            col_name,\n",
    "            num_buckets = HASH_BUCKET_SIZES[col_name])\n",
    "        globals()[f'{col_name}_embedding_layer'] = tf.keras.layers.Embedding(\n",
    "            input_dim = globals()[f'{col_name}_lookup_layer'].vocab_size(),\n",
    "            output_dim = EMBEDDING_DIMENSIONS[col_name])\n",
    "        wide_cols.append(categorical_col)\n",
    "        deep_cols.append(globals()[f'{col_name}_embedding_layer'])\n",
    "\n",
    "    # text data embedding\n",
    "    for col_name in TEXT_COLS:\n",
    "        categorical_col = tf.feature_column.categorical_column_with_identity(\n",
    "            col_name,\n",
    "            num_buckets = HASH_BUCKET_SIZES[col_name])\n",
    "        globals()[f'{col_name}_embedding_layer'] = tf.keras.layers.Embedding(\n",
    "            input_dim = globals()[f'{col_name}_lookup_layer'].vocab_size(),\n",
    "            output_dim = EMBEDDING_DIMENSIONS[col_name])\n",
    "        categorical_buckets.append(col_name)\n",
    "        wide_cols.append(categorical_col)\n",
    "        deep_cols.append(globals()[f'{col_name}_embedding_layer'])\n",
    "        \n",
    "\n",
    "    # numeric columns and respective cross columns\n",
    "    for col_name in NUMERIC_COLS:\n",
    "        \n",
    "\n",
    "    # "
   ]
  },
  {
   "cell_type": "code",
   "execution_count": null,
   "id": "1e3fb50f-f339-4d1f-a694-f4087aab0efc",
   "metadata": {},
   "outputs": [],
   "source": [
    "userId_embedding_layer "
   ]
  }
 ],
 "metadata": {
  "kernelspec": {
   "display_name": "Python 3 (ipykernel)",
   "language": "python",
   "name": "python3"
  },
  "language_info": {
   "codemirror_mode": {
    "name": "ipython",
    "version": 3
   },
   "file_extension": ".py",
   "mimetype": "text/x-python",
   "name": "python",
   "nbconvert_exporter": "python",
   "pygments_lexer": "ipython3",
   "version": "3.9.2"
  }
 },
 "nbformat": 4,
 "nbformat_minor": 5
}
